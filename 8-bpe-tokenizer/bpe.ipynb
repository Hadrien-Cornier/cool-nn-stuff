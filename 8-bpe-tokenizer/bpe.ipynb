{
 "cells": [
  {
   "cell_type": "code",
   "execution_count": null,
   "metadata": {},
   "outputs": [],
   "source": [
    "# based on https://en.wikipedia.org/wiki/Byte_pair_encoding"
   ]
  },
  {
   "cell_type": "code",
   "execution_count": 81,
   "metadata": {},
   "outputs": [],
   "source": [
    "text = \"lorem ipsum dolor sit amet consectetur adipiscing elit sed do eiusmod tempor incididunt ut labore et dolore magna aliqua ut enim ad minim veniam quis nostrud exercitation ullamco laboris nisi ut aliquip ex ea commodo consequat duis aute irure dolor in reprehenderit in voluptate velit esse cillum dolore eu fugiat nulla pariatur excepteur sint occaecat cupidatat non proident sunt in culpa qui officia deserunt mollit anim id est laborum\" "
   ]
  },
  {
   "cell_type": "code",
   "execution_count": 82,
   "metadata": {},
   "outputs": [
    {
     "name": "stdout",
     "output_type": "stream",
     "text": [
      "before compression :  lorem ipsum dolor sit amet consectetur adipiscing elit sed do eiusmod tempor incididunt ut labore et dolore magna aliqua ut enim ad minim veniam quis nostrud exercitation ullamco laboris nisi ut aliquip ex ea commodo consequat duis aute irure dolor in reprehenderit in voluptate velit esse cillum dolore eu fugiat nulla pariatur excepteur sint occaecat cupidatat non proident sunt in culpa qui officia deserunt mollit anim id est laborum\n"
     ]
    }
   ],
   "source": [
    "print(\"before compression : \", text )"
   ]
  },
  {
   "cell_type": "code",
   "execution_count": 83,
   "metadata": {},
   "outputs": [],
   "source": [
    "def get_byte_pairs(text):\n",
    "    n_grams = {}\n",
    "    for i in range(len(text)-1):\n",
    "        n_gram = text[i:i+2]\n",
    "        if n_gram in n_grams:\n",
    "            n_grams[n_gram] += 1\n",
    "        else:\n",
    "            n_grams[n_gram] = 1\n",
    "    return sorted(list((k,v) for k,v in n_grams.items()), key=lambda x: x[1], reverse=True)"
   ]
  },
  {
   "cell_type": "code",
   "execution_count": 84,
   "metadata": {},
   "outputs": [],
   "source": [
    "vocab = list(set(char for char in T))"
   ]
  },
  {
   "cell_type": "code",
   "execution_count": 85,
   "metadata": {},
   "outputs": [
    {
     "name": "stdout",
     "output_type": "stream",
     "text": [
      "['Z', 'Y', 'X', 'W', 'V', 'U', 'T', 'S', 'R', 'Q', 'P', 'O', 'N', 'M', 'L', 'K', 'J', 'I', 'H', 'G', 'F', 'E', 'D', 'C', 'B', 'A']\n"
     ]
    }
   ],
   "source": [
    "alphabet = [x.upper() for x in string.ascii_lowercase][::-1]\n",
    "print(alphabet)"
   ]
  },
  {
   "cell_type": "code",
   "execution_count": 86,
   "metadata": {},
   "outputs": [],
   "source": [
    "get_byte_pairs(T)[0]\n",
    "operations_applied = []\n",
    "original_text = text\n",
    "original_alphabet = alphabet\n",
    "K = len(alphabet)"
   ]
  },
  {
   "cell_type": "code",
   "execution_count": 87,
   "metadata": {},
   "outputs": [
    {
     "name": "stdout",
     "output_type": "stream",
     "text": [
      "[('t ', 'Z')]\n",
      "lorem ipsum dolor siZameZconsectetur adipiscing eliZsed do eiusmod tempor incididunZuZlabore eZdolore magna aliqua uZenim ad minim veniam quis nostrud exercitation ullamco laboris nisi uZaliquip ex ea commodo consequaZduis aute irure dolor in reprehenderiZin voluptate veliZesse cillum dolore eu fugiaZnulla pariatur excepteur sinZoccaecaZcupidataZnon proidenZsunZin culpa qui officia deserunZmolliZanim id esZlaborum\n",
      "[('t ', 'Z'), ('or', 'Y')]\n",
      "lYem ipsum dolY siZameZconsectetur adipiscing eliZsed do eiusmod tempY incididunZuZlabYe eZdolYe magna aliqua uZenim ad minim veniam quis nostrud exercitation ullamco labYis nisi uZaliquip ex ea commodo consequaZduis aute irure dolY in reprehenderiZin voluptate veliZesse cillum dolYe eu fugiaZnulla pariatur excepteur sinZoccaecaZcupidataZnon proidenZsunZin culpa qui officia deserunZmolliZanim id esZlabYum\n",
      "[('t ', 'Z'), ('or', 'Y'), (' e', 'X')]\n",
      "lYem ipsum dolY siZameZconsectetur adipiscingXliZsed doXiusmod tempY incididunZuZlabYeXZdolYe magna aliqua uZenim ad minim veniam quis nostrudXxercitation ullamco labYis nisi uZaliquipXxXa commodo consequaZduis aute irure dolY in reprehenderiZin voluptate veliZesse cillum dolYeXu fugiaZnulla pariaturXxcepteur sinZoccaecaZcupidataZnon proidenZsunZin culpa qui officia deserunZmolliZanim idXsZlabYum\n",
      "[('t ', 'Z'), ('or', 'Y'), (' e', 'X'), ('m ', 'W')]\n",
      "lYeWipsuWdolY siZameZconsectetur adipiscingXliZsed doXiusmod tempY incididunZuZlabYeXZdolYe magna aliqua uZeniWad miniWveniaWquis nostrudXxercitation ullamco labYis nisi uZaliquipXxXa commodo consequaZduis aute irure dolY in reprehenderiZin voluptate veliZesse cilluWdolYeXu fugiaZnulla pariaturXxcepteur sinZoccaecaZcupidataZnon proidenZsunZin culpa qui officia deserunZmolliZaniWidXsZlabYum\n",
      "[('t ', 'Z'), ('or', 'Y'), (' e', 'X'), ('m ', 'W'), ('in', 'V')]\n",
      "lYeWipsuWdolY siZameZconsectetur adipiscVgXliZsed doXiusmod tempY VcididunZuZlabYeXZdolYe magna aliqua uZeniWad mViWveniaWquis nostrudXxercitation ullamco labYis nisi uZaliquipXxXa commodo consequaZduis aute irure dolY V reprehenderiZV voluptate veliZesse cilluWdolYeXu fugiaZnulla pariaturXxcepteur sVZoccaecaZcupidataZnon proidenZsunZV culpa qui officia deserunZmolliZaniWidXsZlabYum\n",
      "[('t ', 'Z'), ('or', 'Y'), (' e', 'X'), ('m ', 'W'), ('in', 'V'), ('do', 'U')]\n",
      "lYeWipsuWUlY siZameZconsectetur adipiscVgXliZsed UXiusmod tempY VcididunZuZlabYeXZUlYe magna aliqua uZeniWad mViWveniaWquis nostrudXxercitation ullamco labYis nisi uZaliquipXxXa commoU consequaZduis aute irure UlY V reprehenderiZV voluptate veliZesse cilluWUlYeXu fugiaZnulla pariaturXxcepteur sVZoccaecaZcupidataZnon proidenZsunZV culpa qui officia deserunZmolliZaniWidXsZlabYum\n",
      "[('t ', 'Z'), ('or', 'Y'), (' e', 'X'), ('m ', 'W'), ('in', 'V'), ('do', 'U'), ('a ', 'T')]\n",
      "lYeWipsuWUlY siZameZconsectetur adipiscVgXliZsed UXiusmod tempY VcididunZuZlabYeXZUlYe magnTaliquTuZeniWad mViWveniaWquis nostrudXxercitation ullamco labYis nisi uZaliquipXxXTcommoU consequaZduis aute irure UlY V reprehenderiZV voluptate veliZesse cilluWUlYeXu fugiaZnullTpariaturXxcepteur sVZoccaecaZcupidataZnon proidenZsunZV culpTqui officiTdeserunZmolliZaniWidXsZlabYum\n",
      "[('t ', 'Z'), ('or', 'Y'), (' e', 'X'), ('m ', 'W'), ('in', 'V'), ('do', 'U'), ('a ', 'T'), ('lY', 'S')]\n",
      "SeWipsuWUS siZameZconsectetur adipiscVgXliZsed UXiusmod tempY VcididunZuZlabYeXZUSe magnTaliquTuZeniWad mViWveniaWquis nostrudXxercitation ullamco labYis nisi uZaliquipXxXTcommoU consequaZduis aute irure US V reprehenderiZV voluptate veliZesse cilluWUSeXu fugiaZnullTpariaturXxcepteur sVZoccaecaZcupidataZnon proidenZsunZV culpTqui officiTdeserunZmolliZaniWidXsZlabYum\n",
      "[('t ', 'Z'), ('or', 'Y'), (' e', 'X'), ('m ', 'W'), ('in', 'V'), ('do', 'U'), ('a ', 'T'), ('lY', 'S'), ('iZ', 'R')]\n",
      "SeWipsuWUS sRameZconsectetur adipiscVgXlRsed UXiusmod tempY VcididunZuZlabYeXZUSe magnTaliquTuZeniWad mViWveniaWquis nostrudXxercitation ullamco labYis nisi uZaliquipXxXTcommoU consequaZduis aute irure US V reprehenderRV voluptate velResse cilluWUSeXu fugiaZnullTpariaturXxcepteur sVZoccaecaZcupidataZnon proidenZsunZV culpTqui officiTdeserunZmollRaniWidXsZlabYum\n",
      "[('t ', 'Z'), ('or', 'Y'), (' e', 'X'), ('m ', 'W'), ('in', 'V'), ('do', 'U'), ('a ', 'T'), ('lY', 'S'), ('iZ', 'R'), ('se', 'Q')]\n",
      "SeWipsuWUS sRameZconQctetur adipiscVgXlRQd UXiusmod tempY VcididunZuZlabYeXZUSe magnTaliquTuZeniWad mViWveniaWquis nostrudXxercitation ullamco labYis nisi uZaliquipXxXTcommoU conQquaZduis aute irure US V reprehenderRV voluptate velResQ cilluWUSeXu fugiaZnullTpariaturXxcepteur sVZoccaecaZcupidataZnon proidenZsunZV culpTqui officiTdeQrunZmollRaniWidXsZlabYum\n",
      "[('t ', 'Z'), ('or', 'Y'), (' e', 'X'), ('m ', 'W'), ('in', 'V'), ('do', 'U'), ('a ', 'T'), ('lY', 'S'), ('iZ', 'R'), ('se', 'Q'), ('te', 'P')]\n",
      "SeWipsuWUS sRameZconQcPtur adipiscVgXlRQd UXiusmod PmpY VcididunZuZlabYeXZUSe magnTaliquTuZeniWad mViWveniaWquis nostrudXxercitation ullamco labYis nisi uZaliquipXxXTcommoU conQquaZduis auP irure US V reprehenderRV voluptaP velResQ cilluWUSeXu fugiaZnullTpariaturXxcepPur sVZoccaecaZcupidataZnon proidenZsunZV culpTqui officiTdeQrunZmollRaniWidXsZlabYum\n",
      "[('t ', 'Z'), ('or', 'Y'), (' e', 'X'), ('m ', 'W'), ('in', 'V'), ('do', 'U'), ('a ', 'T'), ('lY', 'S'), ('iZ', 'R'), ('se', 'Q'), ('te', 'P'), ('is', 'O')]\n",
      "SeWipsuWUS sRameZconQcPtur adipOcVgXlRQd UXiusmod PmpY VcididunZuZlabYeXZUSe magnTaliquTuZeniWad mViWveniaWquO nostrudXxercitation ullamco labYO nOi uZaliquipXxXTcommoU conQquaZduO auP irure US V reprehenderRV voluptaP velResQ cilluWUSeXu fugiaZnullTpariaturXxcepPur sVZoccaecaZcupidataZnon proidenZsunZV culpTqui officiTdeQrunZmollRaniWidXsZlabYum\n",
      "[('t ', 'Z'), ('or', 'Y'), (' e', 'X'), ('m ', 'W'), ('in', 'V'), ('do', 'U'), ('a ', 'T'), ('lY', 'S'), ('iZ', 'R'), ('se', 'Q'), ('te', 'P'), ('is', 'O'), ('id', 'N')]\n",
      "SeWipsuWUS sRameZconQcPtur adipOcVgXlRQd UXiusmod PmpY VcNNunZuZlabYeXZUSe magnTaliquTuZeniWad mViWveniaWquO nostrudXxercitation ullamco labYO nOi uZaliquipXxXTcommoU conQquaZduO auP irure US V reprehenderRV voluptaP velResQ cilluWUSeXu fugiaZnullTpariaturXxcepPur sVZoccaecaZcupNataZnon proNenZsunZV culpTqui officiTdeQrunZmollRaniWNXsZlabYum\n",
      "[('t ', 'Z'), ('or', 'Y'), (' e', 'X'), ('m ', 'W'), ('in', 'V'), ('do', 'U'), ('a ', 'T'), ('lY', 'S'), ('iZ', 'R'), ('se', 'Q'), ('te', 'P'), ('is', 'O'), ('id', 'N'), ('qu', 'M')]\n",
      "SeWipsuWUS sRameZconQcPtur adipOcVgXlRQd UXiusmod PmpY VcNNunZuZlabYeXZUSe magnTaliMTuZeniWad mViWveniaWMO nostrudXxercitation ullamco labYO nOi uZaliMipXxXTcommoU conQMaZduO auP irure US V reprehenderRV voluptaP velResQ cilluWUSeXu fugiaZnullTpariaturXxcepPur sVZoccaecaZcupNataZnon proNenZsunZV culpTMi officiTdeQrunZmollRaniWNXsZlabYum\n",
      "[('t ', 'Z'), ('or', 'Y'), (' e', 'X'), ('m ', 'W'), ('in', 'V'), ('do', 'U'), ('a ', 'T'), ('lY', 'S'), ('iZ', 'R'), ('se', 'Q'), ('te', 'P'), ('is', 'O'), ('id', 'N'), ('qu', 'M'), ('US', 'L')]\n",
      "SeWipsuWL sRameZconQcPtur adipOcVgXlRQd UXiusmod PmpY VcNNunZuZlabYeXZLe magnTaliMTuZeniWad mViWveniaWMO nostrudXxercitation ullamco labYO nOi uZaliMipXxXTcommoU conQMaZduO auP irure L V reprehenderRV voluptaP velResQ cilluWLeXu fugiaZnullTpariaturXxcepPur sVZoccaecaZcupNataZnon proNenZsunZV culpTMi officiTdeQrunZmollRaniWNXsZlabYum\n",
      "[('t ', 'Z'), ('or', 'Y'), (' e', 'X'), ('m ', 'W'), ('in', 'V'), ('do', 'U'), ('a ', 'T'), ('lY', 'S'), ('iZ', 'R'), ('se', 'Q'), ('te', 'P'), ('is', 'O'), ('id', 'N'), ('qu', 'M'), ('US', 'L'), ('co', 'K')]\n",
      "SeWipsuWL sRameZKnQcPtur adipOcVgXlRQd UXiusmod PmpY VcNNunZuZlabYeXZLe magnTaliMTuZeniWad mViWveniaWMO nostrudXxercitation ullamK labYO nOi uZaliMipXxXTKmmoU KnQMaZduO auP irure L V reprehenderRV voluptaP velResQ cilluWLeXu fugiaZnullTpariaturXxcepPur sVZoccaecaZcupNataZnon proNenZsunZV culpTMi officiTdeQrunZmollRaniWNXsZlabYum\n",
      "[('t ', 'Z'), ('or', 'Y'), (' e', 'X'), ('m ', 'W'), ('in', 'V'), ('do', 'U'), ('a ', 'T'), ('lY', 'S'), ('iZ', 'R'), ('se', 'Q'), ('te', 'P'), ('is', 'O'), ('id', 'N'), ('qu', 'M'), ('US', 'L'), ('co', 'K'), ('ur', 'J')]\n",
      "SeWipsuWL sRameZKnQcPtJ adipOcVgXlRQd UXiusmod PmpY VcNNunZuZlabYeXZLe magnTaliMTuZeniWad mViWveniaWMO nostrudXxercitation ullamK labYO nOi uZaliMipXxXTKmmoU KnQMaZduO auP irJe L V reprehenderRV voluptaP velResQ cilluWLeXu fugiaZnullTpariatJXxcepPJ sVZoccaecaZcupNataZnon proNenZsunZV culpTMi officiTdeQrunZmollRaniWNXsZlabYum\n",
      "[('t ', 'Z'), ('or', 'Y'), (' e', 'X'), ('m ', 'W'), ('in', 'V'), ('do', 'U'), ('a ', 'T'), ('lY', 'S'), ('iZ', 'R'), ('se', 'Q'), ('te', 'P'), ('is', 'O'), ('id', 'N'), ('qu', 'M'), ('US', 'L'), ('co', 'K'), ('ur', 'J'), ('nZ', 'I')]\n",
      "SeWipsuWL sRameZKnQcPtJ adipOcVgXlRQd UXiusmod PmpY VcNNuIuZlabYeXZLe magnTaliMTuZeniWad mViWveniaWMO nostrudXxercitation ullamK labYO nOi uZaliMipXxXTKmmoU KnQMaZduO auP irJe L V reprehenderRV voluptaP velResQ cilluWLeXu fugiaZnullTpariatJXxcepPJ sVZoccaecaZcupNataZnon proNeIsuIV culpTMi officiTdeQruImollRaniWNXsZlabYum\n",
      "[('t ', 'Z'), ('or', 'Y'), (' e', 'X'), ('m ', 'W'), ('in', 'V'), ('do', 'U'), ('a ', 'T'), ('lY', 'S'), ('iZ', 'R'), ('se', 'Q'), ('te', 'P'), ('is', 'O'), ('id', 'N'), ('qu', 'M'), ('US', 'L'), ('co', 'K'), ('ur', 'J'), ('nZ', 'I'), ('la', 'H')]\n",
      "SeWipsuWL sRameZKnQcPtJ adipOcVgXlRQd UXiusmod PmpY VcNNuIuZHbYeXZLe magnTaliMTuZeniWad mViWveniaWMO nostrudXxercitation ulHmK HbYO nOi uZaliMipXxXTKmmoU KnQMaZduO auP irJe L V reprehenderRV voluptaP velResQ cilluWLeXu fugiaZnullTpariatJXxcepPJ sVZoccaecaZcupNataZnon proNeIsuIV culpTMi officiTdeQruImollRaniWNXsZHbYum\n",
      "[('t ', 'Z'), ('or', 'Y'), (' e', 'X'), ('m ', 'W'), ('in', 'V'), ('do', 'U'), ('a ', 'T'), ('lY', 'S'), ('iZ', 'R'), ('se', 'Q'), ('te', 'P'), ('is', 'O'), ('id', 'N'), ('qu', 'M'), ('US', 'L'), ('co', 'K'), ('ur', 'J'), ('nZ', 'I'), ('la', 'H'), ('aZ', 'G')]\n",
      "SeWipsuWL sRameZKnQcPtJ adipOcVgXlRQd UXiusmod PmpY VcNNuIuZHbYeXZLe magnTaliMTuZeniWad mViWveniaWMO nostrudXxercitation ulHmK HbYO nOi uZaliMipXxXTKmmoU KnQMGduO auP irJe L V reprehenderRV voluptaP velResQ cilluWLeXu fugiGnullTpariatJXxcepPJ sVZoccaecGcupNatGnon proNeIsuIV culpTMi officiTdeQruImollRaniWNXsZHbYum\n",
      "[('t ', 'Z'), ('or', 'Y'), (' e', 'X'), ('m ', 'W'), ('in', 'V'), ('do', 'U'), ('a ', 'T'), ('lY', 'S'), ('iZ', 'R'), ('se', 'Q'), ('te', 'P'), ('is', 'O'), ('id', 'N'), ('qu', 'M'), ('US', 'L'), ('co', 'K'), ('ur', 'J'), ('nZ', 'I'), ('la', 'H'), ('aZ', 'G'), ('ip', 'F')]\n",
      "SeWFsuWL sRameZKnQcPtJ adFOcVgXlRQd UXiusmod PmpY VcNNuIuZHbYeXZLe magnTaliMTuZeniWad mViWveniaWMO nostrudXxercitation ulHmK HbYO nOi uZaliMFXxXTKmmoU KnQMGduO auP irJe L V reprehenderRV voluptaP velResQ cilluWLeXu fugiGnullTpariatJXxcepPJ sVZoccaecGcupNatGnon proNeIsuIV culpTMi officiTdeQruImollRaniWNXsZHbYum\n",
      "[('t ', 'Z'), ('or', 'Y'), (' e', 'X'), ('m ', 'W'), ('in', 'V'), ('do', 'U'), ('a ', 'T'), ('lY', 'S'), ('iZ', 'R'), ('se', 'Q'), ('te', 'P'), ('is', 'O'), ('id', 'N'), ('qu', 'M'), ('US', 'L'), ('co', 'K'), ('ur', 'J'), ('nZ', 'I'), ('la', 'H'), ('aZ', 'G'), ('ip', 'F'), ('lR', 'E')]\n",
      "SeWFsuWL sRameZKnQcPtJ adFOcVgXEQd UXiusmod PmpY VcNNuIuZHbYeXZLe magnTaliMTuZeniWad mViWveniaWMO nostrudXxercitation ulHmK HbYO nOi uZaliMFXxXTKmmoU KnQMGduO auP irJe L V reprehenderRV voluptaP veEesQ cilluWLeXu fugiGnullTpariatJXxcepPJ sVZoccaecGcupNatGnon proNeIsuIV culpTMi officiTdeQruImolEaniWNXsZHbYum\n",
      "[('t ', 'Z'), ('or', 'Y'), (' e', 'X'), ('m ', 'W'), ('in', 'V'), ('do', 'U'), ('a ', 'T'), ('lY', 'S'), ('iZ', 'R'), ('se', 'Q'), ('te', 'P'), ('is', 'O'), ('id', 'N'), ('qu', 'M'), ('US', 'L'), ('co', 'K'), ('ur', 'J'), ('nZ', 'I'), ('la', 'H'), ('aZ', 'G'), ('ip', 'F'), ('lR', 'E'), ('d ', 'D')]\n",
      "SeWFsuWL sRameZKnQcPtJ adFOcVgXEQDUXiusmoDPmpY VcNNuIuZHbYeXZLe magnTaliMTuZeniWaDmViWveniaWMO nostrudXxercitation ulHmK HbYO nOi uZaliMFXxXTKmmoU KnQMGduO auP irJe L V reprehenderRV voluptaP veEesQ cilluWLeXu fugiGnullTpariatJXxcepPJ sVZoccaecGcupNatGnon proNeIsuIV culpTMi officiTdeQruImolEaniWNXsZHbYum\n",
      "[('t ', 'Z'), ('or', 'Y'), (' e', 'X'), ('m ', 'W'), ('in', 'V'), ('do', 'U'), ('a ', 'T'), ('lY', 'S'), ('iZ', 'R'), ('se', 'Q'), ('te', 'P'), ('is', 'O'), ('id', 'N'), ('qu', 'M'), ('US', 'L'), ('co', 'K'), ('ur', 'J'), ('nZ', 'I'), ('la', 'H'), ('aZ', 'G'), ('ip', 'F'), ('lR', 'E'), ('d ', 'D'), ('mo', 'C')]\n",
      "SeWFsuWL sRameZKnQcPtJ adFOcVgXEQDUXiusCDPmpY VcNNuIuZHbYeXZLe magnTaliMTuZeniWaDmViWveniaWMO nostrudXxercitation ulHmK HbYO nOi uZaliMFXxXTKmCU KnQMGduO auP irJe L V reprehenderRV voluptaP veEesQ cilluWLeXu fugiGnullTpariatJXxcepPJ sVZoccaecGcupNatGnon proNeIsuIV culpTMi officiTdeQruIClEaniWNXsZHbYum\n",
      "[('t ', 'Z'), ('or', 'Y'), (' e', 'X'), ('m ', 'W'), ('in', 'V'), ('do', 'U'), ('a ', 'T'), ('lY', 'S'), ('iZ', 'R'), ('se', 'Q'), ('te', 'P'), ('is', 'O'), ('id', 'N'), ('qu', 'M'), ('US', 'L'), ('co', 'K'), ('ur', 'J'), ('nZ', 'I'), ('la', 'H'), ('aZ', 'G'), ('ip', 'F'), ('lR', 'E'), ('d ', 'D'), ('mo', 'C'), ('uI', 'B')]\n",
      "SeWFsuWL sRameZKnQcPtJ adFOcVgXEQDUXiusCDPmpY VcNNBuZHbYeXZLe magnTaliMTuZeniWaDmViWveniaWMO nostrudXxercitation ulHmK HbYO nOi uZaliMFXxXTKmCU KnQMGduO auP irJe L V reprehenderRV voluptaP veEesQ cilluWLeXu fugiGnullTpariatJXxcepPJ sVZoccaecGcupNatGnon proNeIsBV culpTMi officiTdeQrBClEaniWNXsZHbYum\n",
      "[('t ', 'Z'), ('or', 'Y'), (' e', 'X'), ('m ', 'W'), ('in', 'V'), ('do', 'U'), ('a ', 'T'), ('lY', 'S'), ('iZ', 'R'), ('se', 'Q'), ('te', 'P'), ('is', 'O'), ('id', 'N'), ('qu', 'M'), ('US', 'L'), ('co', 'K'), ('ur', 'J'), ('nZ', 'I'), ('la', 'H'), ('aZ', 'G'), ('ip', 'F'), ('lR', 'E'), ('d ', 'D'), ('mo', 'C'), ('uI', 'B'), ('uZ', 'A')]\n",
      "SeWFsuWL sRameZKnQcPtJ adFOcVgXEQDUXiusCDPmpY VcNNBAHbYeXZLe magnTaliMTAeniWaDmViWveniaWMO nostrudXxercitation ulHmK HbYO nOi AaliMFXxXTKmCU KnQMGduO auP irJe L V reprehenderRV voluptaP veEesQ cilluWLeXu fugiGnullTpariatJXxcepPJ sVZoccaecGcupNatGnon proNeIsBV culpTMi officiTdeQrBClEaniWNXsZHbYum\n"
     ]
    }
   ],
   "source": [
    "for _ in range(K):\n",
    "    operations_applied += [(get_byte_pairs(text)[0][0] , alphabet[0])]\n",
    "    alphabet = alphabet[1:] # we took the first element available\n",
    "    print(operations_applied)\n",
    "    text = text.replace(*operations_applied[-1])\n",
    "    print(text)"
   ]
  },
  {
   "cell_type": "code",
   "execution_count": 88,
   "metadata": {},
   "outputs": [
    {
     "name": "stdout",
     "output_type": "stream",
     "text": [
      "length of initial text was  417\n",
      "after 26 rounds of BPE compression, the length of the compressed text is :  296\n",
      "compressed text :  SeWFsuWL sRameZKnQcPtJ adFOcVgXEQDUXiusCDPmpY VcNNBAHbYeXZLe magnTaliMTAeniWaDmViWveniaWMO nostrudXxercitation ulHmK HbYO nOi AaliMFXxXTKmCU KnQMGduO auP irJe L V reprehenderRV voluptaP veEesQ cilluWLeXu fugiGnullTpariatJXxcepPJ sVZoccaecGcupNatGnon proNeIsBV culpTMi officiTdeQrBClEaniWNXsZHbYum\n"
     ]
    }
   ],
   "source": [
    "print(\"length of initial text was \", len(old_text) )\n",
    "print(f\"after {len(original_alphabet)} rounds of BPE compression, the length of the compressed text is : \", len(text))\n",
    "print(\"compressed text : \", text)"
   ]
  },
  {
   "cell_type": "code",
   "execution_count": 90,
   "metadata": {},
   "outputs": [
    {
     "name": "stdout",
     "output_type": "stream",
     "text": [
      "after decompression we recovered :  lorem ipsum dolor sit amet consectetur adipiscing elit sed do eiusmod tempor incididunt ut labore et dolore magna aliqua ut enim ad minim veniam quis nostrud exercitation ullamco laboris nisi ut aliquip ex ea commodo consequat duis aute irure dolor in reprehenderit in voluptate velit esse cillum dolore eu fugiat nulla pariatur excepteur sint occaecat cupidatat non proident sunt in culpa qui officia deserunt mollit anim id est laborum\n"
     ]
    }
   ],
   "source": [
    "for replacements in operations_applied[::-1] : \n",
    "    text = text.replace(*replacements[::-1])\n",
    "print(\"after decompression we recovered : \", text)"
   ]
  }
 ],
 "metadata": {
  "kernelspec": {
   "display_name": "py312",
   "language": "python",
   "name": "py312"
  },
  "language_info": {
   "codemirror_mode": {
    "name": "ipython",
    "version": 3
   },
   "file_extension": ".py",
   "mimetype": "text/x-python",
   "name": "python",
   "nbconvert_exporter": "python",
   "pygments_lexer": "ipython3",
   "version": "3.12.4"
  }
 },
 "nbformat": 4,
 "nbformat_minor": 2
}

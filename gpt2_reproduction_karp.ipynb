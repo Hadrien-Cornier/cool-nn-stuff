{
  "nbformat": 4,
  "nbformat_minor": 0,
  "metadata": {
    "colab": {
      "provenance": [],
      "authorship_tag": "ABX9TyOPcqt+XWtBIgv1wSpRQdl8",
      "include_colab_link": true
    },
    "kernelspec": {
      "name": "python3",
      "display_name": "Python 3"
    },
    "language_info": {
      "name": "python"
    }
  },
  "cells": [
    {
      "cell_type": "markdown",
      "metadata": {
        "id": "view-in-github",
        "colab_type": "text"
      },
      "source": [
        "<a href=\"https://colab.research.google.com/github/Hadrien-Cornier/cool-nn-stuff/blob/main/gpt2_reproduction_karp.ipynb\" target=\"_parent\"><img src=\"https://colab.research.google.com/assets/colab-badge.svg\" alt=\"Open In Colab\"/></a>"
      ]
    },
    {
      "cell_type": "code",
      "source": [
        "#https://www.youtube.com/watch?v=l8pRSuU81PU&t=3359s"
      ],
      "metadata": {
        "id": "B--8bIpk7nCW"
      },
      "execution_count": null,
      "outputs": []
    },
    {
      "cell_type": "markdown",
      "source": [
        "$12$ layers in the transformer\n",
        "\n",
        "$D=768$ hidden dimension\n",
        "\n",
        "transformer equation\n",
        ": $(QK^T)V$\n",
        "\n",
        "$Q,K,V$ in $R^{S \\times D}$"
      ],
      "metadata": {
        "id": "_j0TEW1N7uMs"
      }
    },
    {
      "cell_type": "code",
      "execution_count": null,
      "metadata": {
        "id": "-7m4MPpm7gQM"
      },
      "outputs": [],
      "source": [
        "from transformers import GPT2LMHeadModel, GPT2Tokenizer"
      ]
    }
  ]
}
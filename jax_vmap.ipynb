{
  "nbformat": 4,
  "nbformat_minor": 0,
  "metadata": {
    "colab": {
      "provenance": [],
      "authorship_tag": "ABX9TyPsJx+5JecHhTTo+y1tZQlQ",
      "include_colab_link": true
    },
    "kernelspec": {
      "name": "python3",
      "display_name": "Python 3"
    },
    "language_info": {
      "name": "python"
    }
  },
  "cells": [
    {
      "cell_type": "markdown",
      "metadata": {
        "id": "view-in-github",
        "colab_type": "text"
      },
      "source": [
        "<a href=\"https://colab.research.google.com/github/Hadrien-Cornier/cool-nn-stuff/blob/main/jax_vmap.ipynb\" target=\"_parent\"><img src=\"https://colab.research.google.com/assets/colab-badge.svg\" alt=\"Open In Colab\"/></a>"
      ]
    },
    {
      "cell_type": "markdown",
      "source": [
        "\n",
        "## What does axes do in vmap ?\n",
        "\n",
        "vmap is an accelerator for jax functions that automatically distributes execution with very small overhead\n"
      ],
      "metadata": {
        "id": "LG7hadhec_mc"
      }
    },
    {
      "cell_type": "code",
      "execution_count": 5,
      "metadata": {
        "colab": {
          "base_uri": "https://localhost:8080/"
        },
        "id": "6AOvWpWFbHy9",
        "outputId": "45c4f34f-f34d-4d73-86b1-2e21b735c2aa"
      },
      "outputs": [
        {
          "output_type": "stream",
          "name": "stdout",
          "text": [
            "result_no_vmap=Array([10000, 10002, 10004, ..., 29994, 29996, 29998], dtype=int32)\n",
            "time_no_vmap=1.3610410690307617 seconds\n",
            "result_vmap=Array([10000, 10002, 10004, ..., 29994, 29996, 29998], dtype=int32)\n",
            "time_vmap=0.002285480499267578 seconds\n"
          ]
        }
      ],
      "source": [
        "import jax\n",
        "import jax.numpy as jnp\n",
        "import time\n",
        "\n",
        "# Define a simple function that adds two numbers\n",
        "def add(x, y):\n",
        "    return x + y\n",
        "\n",
        "# Function to generate arrays of a given size\n",
        "def generate_arrays(size):\n",
        "    x = jnp.arange(size)\n",
        "    y = jnp.arange(size, size * 2)\n",
        "    return x, y\n",
        "\n",
        "# Function to measure execution time\n",
        "def measure_time(func, *args):\n",
        "    start = time.time()\n",
        "    result = func(*args)\n",
        "    end = time.time()\n",
        "    return result, end - start\n",
        "\n",
        "# Main function to compare execution times\n",
        "def compare_execution_times(size):\n",
        "    x, y = generate_arrays(size)\n",
        "\n",
        "    # Without vmap\n",
        "    def add_without_vmap(x, y):\n",
        "        return jnp.array([add(xi, yi) for xi, yi in zip(x, y)])\n",
        "\n",
        "    result_no_vmap, time_no_vmap = measure_time(add_without_vmap, x, y)\n",
        "    print(f\"{result_no_vmap=}\")\n",
        "    print(f\"{time_no_vmap=} seconds\")\n",
        "\n",
        "    # With vmap\n",
        "    vmap_add = jax.vmap(add, in_axes=(0, 0))\n",
        "    result_vmap, time_vmap = measure_time(vmap_add, x, y)\n",
        "    print(f\"{result_vmap=}\")\n",
        "    print(f\"{time_vmap=} seconds\")\n",
        "\n",
        "# Example usage\n",
        "size = 10000\n",
        "compare_execution_times(size)"
      ]
    },
    {
      "cell_type": "markdown",
      "source": [
        "\n",
        "vmap has a parameter called \"axes\"\n",
        "\n",
        "\n",
        "### Gpt-4O\n",
        "In JAX, the `in_axes` parameter in the `vmap` function specifies which axes of the input arguments should be mapped over. This allows you to vectorize a function by applying it across slices of input arrays along specified axes. Here's how it works:\n",
        "\n",
        "- **`in_axes` Parameter**: This parameter determines which axis of each input argument should be mapped over. It can be set to an integer, a tuple, or a container of integers/tuples to specify the mapping for multiple inputs.\n",
        "\n",
        "- **Usage**: If `in_axes` is set to an integer, it indicates the axis of the input array to map over. If set to `None`, the input is broadcasted (i.e., not mapped). For example, `in_axes=(0, None)` means the first argument will be mapped over its first axis, while the second argument will not be mapped.\n",
        "\n",
        "- **Example**: Consider a function `f(x, y)` that you want to apply to a batch of inputs. Using `vmap(f, in_axes=(0, 0))` will map the function over the first axis of both `x` and `y`, applying `f` to each pair of slices `(x[i], y[i])`.\n",
        "\n",
        "This parameter is crucial for enabling parallel computation over batches of data, making it highly efficient for operations on large datasets, especially when using accelerators like GPUs and TPUs[2][4][5].\n",
        "\n",
        "Citations:\n",
        "[1] https://jax.readthedocs.io/en/latest/_autosummary/jax.vmap.html\n",
        "[2] https://flax.readthedocs.io/en/v0.5.3/_autosummary/flax.linen.vmap.html\n",
        "[3] https://pyimagesearch.com/2023/02/27/learning-jax-in-2023-part-2-jaxs-power-tools-grad-jit-vmap-and-pmap/\n",
        "[4] https://stackoverflow.com/questions/70564419/in-axes-keyword-in-jaxs-vmap\n",
        "[5] https://discuss.pennylane.ai/t/facing-issues-with-jax-jitting-the-optimization-loop/4274\n",
        "[6] https://github.com/google/jax/issues/7465\n",
        "[7] https://github.com/google/jax/issues/15041\n",
        "[8] https://ppl-ai-file-upload.s3.amazonaws.com/web/direct-files/12491979/c2f73992-0c38-45d2-8e57-4741083de218/product_of_betas-2-.ipynb"
      ],
      "metadata": {
        "id": "arg2NzpRbPTk"
      }
    },
    {
      "cell_type": "code",
      "source": [
        "import jax\n",
        "import jax.numpy as jnp\n",
        "\n",
        "# Define a simple function that adds two numbers\n",
        "def add(x, y):\n",
        "    return x + y\n",
        "\n",
        "# Example 1: Vectorizing addition over a single axis\n",
        "x = jnp.array([1, 2, 3])\n",
        "y = jnp.array([4, 5, 6])\n",
        "\n",
        "print(\"Example 1: Vectorizing addition over a single axis\")\n",
        "print(\"Input arrays:\")\n",
        "print(\"x:\", x)\n",
        "print(\"y:\", y)\n",
        "\n",
        "# Vectorize the add function to apply it across the first axis of x and y\n",
        "vmap_add = jax.vmap(add, in_axes=(0, 0))\n",
        "result1 = vmap_add(x, y)\n",
        "print(\"Called function: jax.vmap(add, in_axes=(0, 0))(x, y)\")\n",
        "print(\"in_axes: (0, 0) - Mapping over first axis of both x and y\")\n",
        "print(\"Result 1:\", result1)  # Output: [5, 7, 9]\n",
        "print()\n",
        "\n",
        "# Example 2: Vectorizing with broadcasting\n",
        "z = 10\n",
        "\n",
        "print(\"Example 2: Vectorizing with broadcasting\")\n",
        "print(\"Input array:\")\n",
        "print(\"x:\", x)\n",
        "print(\"Broadcast scalar z:\", z)\n",
        "\n",
        "# Vectorize the add function to map over the first axis of x and broadcast z\n",
        "vmap_add_broadcast = jax.vmap(add, in_axes=(0, None))\n",
        "result2 = vmap_add_broadcast(x, z)\n",
        "print(\"Called function: jax.vmap(add, in_axes=(0, None))(x, z)\")\n",
        "print(\"in_axes: (0, None) - Mapping over first axis of x and broadcasting z\")\n",
        "print(\"Result 2:\", result2)  # Output: [11, 12, 13]\n",
        "print()\n",
        "\n",
        "# Example 3: Multi-dimensional mapping\n",
        "a = jnp.array([[1, 2], [3, 4]])\n",
        "b = jnp.array([[5, 6], [7, 8]])\n",
        "\n",
        "print(\"Example 3: Multi-dimensional mapping\")\n",
        "print(\"Input arrays:\")\n",
        "print(\"a:\", a)\n",
        "print(\"b:\", b)\n",
        "\n",
        "# Vectorize the add function to map over both dimensions\n",
        "vmap_add_multi = jax.vmap(add, in_axes=(1, 1))\n",
        "result3 = vmap_add_multi(a, b)\n",
        "print(\"Called function: jax.vmap(add, in_axes=(1, 1))(a, b)\")\n",
        "print(\"in_axes: (1, 1) - Outer vmap maps over second axis, inner vmap maps over first axis\")\n",
        "print(\"Result 3:\", result3)  # Output: [[ 6,  8], [10, 12]]"
      ],
      "metadata": {
        "colab": {
          "base_uri": "https://localhost:8080/"
        },
        "id": "OB3URndScj9X",
        "outputId": "086df70b-5241-4779-9fbf-754787a7d423"
      },
      "execution_count": 20,
      "outputs": [
        {
          "output_type": "stream",
          "name": "stdout",
          "text": [
            "Example 1: Vectorizing addition over a single axis\n",
            "Input arrays:\n",
            "x: [1 2 3]\n",
            "y: [4 5 6]\n",
            "Called function: jax.vmap(add, in_axes=(0, 0))(x, y)\n",
            "in_axes: (0, 0) - Mapping over first axis of both x and y\n",
            "Result 1: [5 7 9]\n",
            "\n",
            "Example 2: Vectorizing with broadcasting\n",
            "Input array:\n",
            "x: [1 2 3]\n",
            "Broadcast scalar z: 10\n",
            "Called function: jax.vmap(add, in_axes=(0, None))(x, z)\n",
            "in_axes: (0, None) - Mapping over first axis of x and broadcasting z\n",
            "Result 2: [11 12 13]\n",
            "\n",
            "Example 3: Multi-dimensional mapping\n",
            "Input arrays:\n",
            "a: [[1 2]\n",
            " [3 4]]\n",
            "b: [[5 6]\n",
            " [7 8]]\n",
            "Called function: jax.vmap(add, in_axes=(1, 1))(a, b)\n",
            "in_axes: (1, 1) - Outer vmap maps over second axis, inner vmap maps over first axis\n",
            "Result 3: [[ 6 10]\n",
            " [ 8 12]]\n"
          ]
        }
      ]
    },
    {
      "cell_type": "code",
      "source": [
        "print(f\"{jax.vmap(add, in_axes=(0, 0))(a, b) =}\")"
      ],
      "metadata": {
        "colab": {
          "base_uri": "https://localhost:8080/"
        },
        "id": "lFWSyo--fP6_",
        "outputId": "a4700ee4-a9d8-4f7e-967f-92b51c2fb74d"
      },
      "execution_count": 17,
      "outputs": [
        {
          "output_type": "stream",
          "name": "stdout",
          "text": [
            "jax.vmap(add, in_axes=(0, 0))(a, b) =Array([[ 6,  8],\n",
            "       [10, 12]], dtype=int32)\n"
          ]
        }
      ]
    },
    {
      "cell_type": "code",
      "source": [
        "print(f\"{jax.vmap(add, in_axes=(1, 1))(a, b) =}\")"
      ],
      "metadata": {
        "colab": {
          "base_uri": "https://localhost:8080/"
        },
        "id": "KPaKfBMQfvRW",
        "outputId": "57bdd164-0aa8-4af2-c959-a28fca9f713a"
      },
      "execution_count": 18,
      "outputs": [
        {
          "output_type": "stream",
          "name": "stdout",
          "text": [
            "jax.vmap(add, in_axes=(1, 1))(a, b) =Array([[ 6, 10],\n",
            "       [ 8, 12]], dtype=int32)\n"
          ]
        }
      ]
    }
  ]
}
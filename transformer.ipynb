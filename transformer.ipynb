{
 "cells": [
  {
   "cell_type": "code",
   "execution_count": 4,
   "metadata": {},
   "outputs": [],
   "source": [
    "import torch.nn as nn\n",
    "import torch"
   ]
  },
  {
   "cell_type": "code",
   "execution_count": null,
   "metadata": {},
   "outputs": [],
   "source": [
    "device = torch.device(\"cuda\" if torch.cuda.is_available() else \"cpu\")"
   ]
  },
  {
   "cell_type": "code",
   "execution_count": 7,
   "metadata": {},
   "outputs": [],
   "source": [
    "class CustomAttentionHeadBlock(nn.Module):\n",
    "\n",
    "    def __init__(self,config):\n",
    "        super().__init__()\n",
    "        ## nn.Linear can be used to represent a matrix\n",
    "        # self.Q = nn.Linear(config.n_embd, config.n_embd)\n",
    "        # self.K = nn.Linear(config.n_embd, config.n_embd)\n",
    "        # self.V = nn.Linear(config.n_embd, config.n_embd)\n",
    "        # But I want the raw Parameter\n",
    "        # we sample from 1/embedding_dimension\n",
    "        self.Q = nn.Parameter(torch.randn(config.n_embd, config.n_embd)*torch.sqrt(torch.tensor(1.0/config.n_embd)))\n",
    "        self.K = nn.Parameter(torch.randn(config.n_embd, config.n_embd)*torch.sqrt(torch.tensor(1.0/config.n_embd)))\n",
    "        self.V = nn.Parameter(torch.randn(config.n_embd, config.n_embd)*torch.sqrt(torch.tensor(1.0/config.n_embd)))\n",
    "\n",
    "        self.ln_1 = nn.LayerNorm(config.n_embd)\n",
    "        self.ln_2 = nn.LayerNorm(config.n_embd)\n",
    "        \n",
    "        self.mlp = nn.Sequential(\n",
    "            nn.Linear(config.n_embd, 4*config.n_embd),\n",
    "            nn.GELU(),\n",
    "            nn.Linear(4*config.n_embd, config.n_embd),\n",
    "        )\n",
    "    \n",
    "    def forward(self, X):\n",
    "        \"\"\" B x T x C : B=Batch, T=Sequence Length, C=Channels\"\"\" \n",
    "        \"\"\" Q : C x C, K : C x C, V : C x C \"\"\"\n",
    "        queries = Q @ X # B x (T\n",
    "        pass"
   ]
  },
  {
   "cell_type": "code",
   "execution_count": null,
   "metadata": {},
   "outputs": [],
   "source": [
    "position_embedding_table = "
   ]
  },
  {
   "cell_type": "code",
   "execution_count": 12,
   "metadata": {},
   "outputs": [
    {
     "data": {
      "text/plain": [
       "tensor([0, 1, 2, 3, 4, 5, 6])"
      ]
     },
     "execution_count": 12,
     "metadata": {},
     "output_type": "execute_result"
    }
   ],
   "source": [
    "torch.arange(7)"
   ]
  },
  {
   "cell_type": "code",
   "execution_count": 8,
   "metadata": {},
   "outputs": [
    {
     "name": "stdout",
     "output_type": "stream",
     "text": [
      "tensor([[[-0.2374, -0.4143],\n",
      "         [-0.5765,  0.7790],\n",
      "         [ 0.7443,  0.3480],\n",
      "         [-0.3817, -0.9289],\n",
      "         [ 0.5543,  0.4119],\n",
      "         [ 0.5328, -0.1533],\n",
      "         [ 0.0216,  0.7703],\n",
      "         [ 0.3882, -0.0276]],\n",
      "\n",
      "        [[-0.8803,  0.2467],\n",
      "         [ 1.3765, -2.0477],\n",
      "         [ 0.0900,  0.6292],\n",
      "         [ 0.4066, -0.3066],\n",
      "         [ 1.6702, -1.4386],\n",
      "         [ 0.0670,  0.8862],\n",
      "         [ 0.9379, -1.0628],\n",
      "         [ 1.8591,  0.6913]],\n",
      "\n",
      "        [[ 0.5470, -0.2360],\n",
      "         [ 0.9461,  0.4047],\n",
      "         [ 1.4713,  2.1826],\n",
      "         [-0.3717, -1.2865],\n",
      "         [-0.6546,  0.0807],\n",
      "         [ 0.2192,  1.5398],\n",
      "         [ 0.4428, -0.4590],\n",
      "         [ 2.0703,  2.2711]],\n",
      "\n",
      "        [[ 0.9144, -0.9806],\n",
      "         [-1.1561,  0.4412],\n",
      "         [-0.9772,  0.9412],\n",
      "         [-0.0686,  0.7128],\n",
      "         [-0.0818, -0.6172],\n",
      "         [ 1.0673, -0.5928],\n",
      "         [-0.4637,  0.0429],\n",
      "         [-0.1320, -0.4210]]])\n"
     ]
    }
   ],
   "source": [
    "\"\"\" B x T x C : B=Batch, T=Sequence Length, C=Channels\"\"\" \n",
    "\"\"\" Q : C x C, K : C x C, V : C x C \"\"\"\n",
    "\n",
    "B = 4\n",
    "T = 8\n",
    "C = 2\n",
    "\n",
    "X = torch.randn(B, T, C)\n",
    "print(X)"
   ]
  },
  {
   "cell_type": "code",
   "execution_count": 14,
   "metadata": {},
   "outputs": [
    {
     "name": "stdout",
     "output_type": "stream",
     "text": [
      "Embedding(8, 2)\n"
     ]
    }
   ],
   "source": [
    "position_embedding_table = nn.Embedding(T, C)\n",
    "print(position_embedding_table)"
   ]
  },
  {
   "cell_type": "code",
   "execution_count": 20,
   "metadata": {},
   "outputs": [
    {
     "data": {
      "text/plain": [
       "tensor([ 0.1659, -0.1739], grad_fn=<EmbeddingBackward0>)"
      ]
     },
     "execution_count": 20,
     "metadata": {},
     "output_type": "execute_result"
    }
   ],
   "source": [
    "position_embedding_table(torch.tensor(7))"
   ]
  },
  {
   "cell_type": "code",
   "execution_count": 9,
   "metadata": {},
   "outputs": [],
   "source": [
    "Q = torch.ones(C, C)"
   ]
  },
  {
   "cell_type": "code",
   "execution_count": 10,
   "metadata": {},
   "outputs": [
    {
     "ename": "RuntimeError",
     "evalue": "Expected size for first two dimensions of batch2 tensor to be: [4, 2] but got: [4, 8].",
     "output_type": "error",
     "traceback": [
      "\u001b[0;31m---------------------------------------------------------------------------\u001b[0m",
      "\u001b[0;31mRuntimeError\u001b[0m                              Traceback (most recent call last)",
      "Cell \u001b[0;32mIn[10], line 1\u001b[0m\n\u001b[0;32m----> 1\u001b[0m Q \u001b[38;5;241m@\u001b[39m X\n",
      "\u001b[0;31mRuntimeError\u001b[0m: Expected size for first two dimensions of batch2 tensor to be: [4, 2] but got: [4, 8]."
     ]
    }
   ],
   "source": [
    "Q @ X"
   ]
  },
  {
   "cell_type": "code",
   "execution_count": null,
   "metadata": {},
   "outputs": [],
   "source": [
    "from dataclasses import dataclass\n",
    "\n",
    "@dataclass\n",
    "class Config:\n",
    "    n_embd:int = 4\n",
    "\n",
    "C = new CustomTransformerBlock(new Config())"
   ]
  },
  {
   "cell_type": "code",
   "execution_count": null,
   "metadata": {},
   "outputs": [],
   "source": []
  }
 ],
 "metadata": {
  "kernelspec": {
   "display_name": "py312",
   "language": "python",
   "name": "py312"
  },
  "language_info": {
   "codemirror_mode": {
    "name": "ipython",
    "version": 3
   },
   "file_extension": ".py",
   "mimetype": "text/x-python",
   "name": "python",
   "nbconvert_exporter": "python",
   "pygments_lexer": "ipython3",
   "version": "3.12.4"
  }
 },
 "nbformat": 4,
 "nbformat_minor": 2
}

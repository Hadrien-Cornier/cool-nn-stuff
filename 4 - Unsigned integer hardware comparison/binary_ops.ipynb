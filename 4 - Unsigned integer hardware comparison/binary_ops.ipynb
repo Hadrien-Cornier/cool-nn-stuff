{
 "cells": [
  {
   "cell_type": "code",
   "execution_count": 2,
   "metadata": {},
   "outputs": [],
   "source": [
    "import matplotlib.pyplot as plt\n",
    "import numpy as np"
   ]
  },
  {
   "cell_type": "code",
   "execution_count": 19,
   "metadata": {},
   "outputs": [],
   "source": [
    "# Number object for performing string based bitwise operations,\n",
    "# which is basically like a tiny version of a HDL for logic gates\n",
    "class Number():\n",
    "    \n",
    "\n",
    "    def __init__(self, number):\n",
    "        self.bits = np.binary_repr(number, width=8)\n",
    "    \n",
    "    def __repr__(self):\n",
    "        return self.bits\n",
    "        \n",
    "    def flip(self):\n",
    "        self.bits = Number.not_op(self.bits)\n",
    "    \n",
    "    def __iadd__(self, other):\n",
    "        self.bits = Number.add_op(self.bits, other.bits)\n",
    "        return self\n",
    "    \n",
    "    def __neg__(self):\n",
    "        self.flip()\n",
    "        self += Number(1)\n",
    "        return self\n",
    "\n",
    "    @staticmethod\n",
    "    def and_op(a, b):\n",
    "        return ''.join('1' if a[i] == '1' and b[i] == '1' else '0' for i in range(len(a)))\n",
    "\n",
    "    @staticmethod\n",
    "    def or_op(a, b):\n",
    "        return ''.join('1' if a[i] == '1' or b[i] == '1' else '0' for i in range(len(a)))\n",
    "\n",
    "    @staticmethod\n",
    "    def xor_op(a, b):\n",
    "        return ''.join('1' if a[i] != b[i] else '0' for i in range(len(a)))\n",
    "\n",
    "    @staticmethod\n",
    "    def not_op(a):\n",
    "        return ''.join('1' if bit == '0' else '0' for bit in a)\n",
    "\n",
    "    @staticmethod\n",
    "    def add_op(a, b):\n",
    "        a = list(a)\n",
    "        b = list(b)\n",
    "        carry = 0\n",
    "        for i in range(len(a) - 1, -1, -1):\n",
    "            a[i] = int(a[i])\n",
    "            b[i] = int(b[i])\n",
    "            a[i], carry = (a[i] ^ b[i] ^ carry), (a[i] & b[i]) | (a[i] & carry) | (b[i] & carry)\n",
    "        return ''.join(str(bit) for bit in a)\n",
    "    \n",
    "    @property\n",
    "    def decimal(self):\n",
    "        return int(self.bits, 2)\n",
    "    \n",
    "    @property\n",
    "    def signed(self):\n",
    "        # this is how signed ints are represented in binary\n",
    "        return self.decimal - 256 if self.bits[0] == '1' else self.decimal"
   ]
  },
  {
   "cell_type": "code",
   "execution_count": 4,
   "metadata": {},
   "outputs": [
    {
     "name": "stdout",
     "output_type": "stream",
     "text": [
      "______________________\n",
      " a: 00000101  | decimal :  5\n",
      "-a: 11111011  | decimal :  251\n",
      "______________________\n",
      " a: 00000110  | decimal :  6\n",
      "-a: 11111010  | decimal :  250\n",
      "______________________\n",
      " a: 00000111  | decimal :  7\n",
      "-a: 11111001  | decimal :  249\n",
      "______________________\n",
      " a: 00001000  | decimal :  8\n",
      "-a: 11111000  | decimal :  248\n"
     ]
    }
   ],
   "source": [
    "for i in range(4):\n",
    "    print(\"______________________\")\n",
    "    a = Number(5+i)\n",
    "    print(\" a:\", a, \" | decimal : \", a.decimal) \n",
    "    -a \n",
    "    print(\"-a:\", a, \" | decimal : \", a.decimal)"
   ]
  },
  {
   "cell_type": "code",
   "execution_count": 5,
   "metadata": {},
   "outputs": [],
   "source": [
    "def test_add(a,b):\n",
    "    print(\"______________________\")\n",
    "    a = Number(a)\n",
    "    b = Number(b)\n",
    "\n",
    "    print(a.bits + \" : \" + str(int(a.bits, 2)))\n",
    "    print(\"+\")\n",
    "    print(b.bits + \" : \" + str(int(b.bits, 2)))\n",
    "    a += b\n",
    "    print(\"=\")\n",
    "    print(a.bits + \" : \" + str(int(a.bits, 2)))\n"
   ]
  },
  {
   "cell_type": "code",
   "execution_count": 6,
   "metadata": {},
   "outputs": [
    {
     "name": "stdout",
     "output_type": "stream",
     "text": [
      "______________________\n",
      "01111111 : 127\n",
      "+\n",
      "00000001 : 1\n",
      "=\n",
      "10000000 : 128\n",
      "______________________\n",
      "01111111 : 127\n",
      "+\n",
      "00000010 : 2\n",
      "=\n",
      "10000001 : 129\n",
      "______________________\n",
      "01111111 : 127\n",
      "+\n",
      "00000011 : 3\n",
      "=\n",
      "10000010 : 130\n",
      "______________________\n",
      "01111111 : 127\n",
      "+\n",
      "00000100 : 4\n",
      "=\n",
      "10000011 : 131\n"
     ]
    }
   ],
   "source": [
    "test_add(127, 1)\n",
    "test_add(127, 2)\n",
    "test_add(127, 3)\n",
    "test_add(127, 4)"
   ]
  }
 ],
 "metadata": {
  "kernelspec": {
   "display_name": "aifb",
   "language": "python",
   "name": "aifb"
  },
  "language_info": {
   "codemirror_mode": {
    "name": "ipython",
    "version": 3
   },
   "file_extension": ".py",
   "mimetype": "text/x-python",
   "name": "python",
   "nbconvert_exporter": "python",
   "pygments_lexer": "ipython3",
   "version": "3.9.6"
  }
 },
 "nbformat": 4,
 "nbformat_minor": 2
}

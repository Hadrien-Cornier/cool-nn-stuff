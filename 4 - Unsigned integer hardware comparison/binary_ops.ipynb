{
 "cells": [
  {
   "cell_type": "code",
   "execution_count": 5,
   "metadata": {},
   "outputs": [],
   "source": [
    "import matplotlib.pyplot as plt\n",
    "import numpy as np"
   ]
  },
  {
   "cell_type": "code",
   "execution_count": 8,
   "metadata": {},
   "outputs": [],
   "source": [
    "# Number object for performing string based bitwise operations,\n",
    "# which is basically like a tiny version of a HDL for logic gates\n",
    "class Number():\n",
    "    \n",
    "\n",
    "    def __init__(self, number):\n",
    "        self.bits = np.binary_repr(number, width=8)\n",
    "    \n",
    "    def __repr__(self):\n",
    "        return self.bits\n",
    "        \n",
    "    def flip(self):\n",
    "        self.bits = Number.not_op(self.bits)\n",
    "    \n",
    "    def __iadd__(self, other):\n",
    "        self.bits = Number.add_op(self.bits, other.bits)\n",
    "        return self\n",
    "    \n",
    "    def __neg__(self):\n",
    "        self.flip()\n",
    "        self += Number(1)\n",
    "        return self\n",
    "\n",
    "    @staticmethod\n",
    "    def and_op(a, b):\n",
    "        return ''.join('1' if a[i] == '1' and b[i] == '1' else '0' for i in range(len(a)))\n",
    "\n",
    "    @staticmethod\n",
    "    def or_op(a, b):\n",
    "        return ''.join('1' if a[i] == '1' or b[i] == '1' else '0' for i in range(len(a)))\n",
    "\n",
    "    @staticmethod\n",
    "    def xor_op(a, b):\n",
    "        return ''.join('1' if a[i] != b[i] else '0' for i in range(len(a)))\n",
    "\n",
    "    @staticmethod\n",
    "    def not_op(a):\n",
    "        return ''.join('1' if bit == '0' else '0' for bit in a)\n",
    "\n",
    "    @staticmethod\n",
    "    def add_op(a, b):\n",
    "        a = list(a)\n",
    "        b = list(b)\n",
    "        carry = 0\n",
    "        for i in range(len(a) - 1, -1, -1):\n",
    "            a[i] = int(a[i])\n",
    "            b[i] = int(b[i])\n",
    "            a[i], carry = (a[i] ^ b[i] ^ carry), (a[i] & b[i]) | (a[i] & carry) | (b[i] & carry)\n",
    "        return ''.join(str(bit) for bit in a)\n",
    "    \n",
    "    @property\n",
    "    def decimal(self):\n",
    "        return int(self.bits, 2)\n",
    "    \n",
    "    @property\n",
    "    def signed(self):\n",
    "        return self.decimal - 128 if self.bits[0] == '1' else self.decimal"
   ]
  },
  {
   "cell_type": "code",
   "execution_count": 9,
   "metadata": {},
   "outputs": [
    {
     "name": "stdout",
     "output_type": "stream",
     "text": [
      "______________________\n",
      " a: 00000101  | decimal :  5\n",
      "-a: 11111011  | decimal :  251\n",
      "______________________\n",
      " a: 00000110  | decimal :  6\n",
      "-a: 11111010  | decimal :  250\n",
      "______________________\n",
      " a: 00000111  | decimal :  7\n",
      "-a: 11111001  | decimal :  249\n",
      "______________________\n",
      " a: 00001000  | decimal :  8\n",
      "-a: 11111000  | decimal :  248\n"
     ]
    }
   ],
   "source": [
    "for i in range(4):\n",
    "    print(\"______________________\")\n",
    "    a = Number(5+i)\n",
    "    print(\" a:\", a, \" | decimal : \", a.decimal) \n",
    "    -a \n",
    "    print(\"-a:\", a, \" | decimal : \", a.decimal)"
   ]
  },
  {
   "cell_type": "code",
   "execution_count": 10,
   "metadata": {},
   "outputs": [],
   "source": [
    "def test_add(a,b):\n",
    "    print(\"______________________\")\n",
    "    a = Number(a)\n",
    "    b = Number(b)\n",
    "\n",
    "    print(a.bits + \" : \" + str(int(a.bits, 2)))\n",
    "    print(\"+\")\n",
    "    print(b.bits + \" : \" + str(int(b.bits, 2)))\n",
    "    a += b\n",
    "    print(\"=\")\n",
    "    print(a.bits + \" : \" + str(int(a.bits, 2)))\n"
   ]
  },
  {
   "cell_type": "code",
   "execution_count": 11,
   "metadata": {},
   "outputs": [
    {
     "name": "stdout",
     "output_type": "stream",
     "text": [
      "______________________\n",
      "01111111 : 127\n",
      "+\n",
      "00000001 : 1\n",
      "=\n",
      "10000000 : 128\n",
      "______________________\n",
      "01111111 : 127\n",
      "+\n",
      "00000010 : 2\n",
      "=\n",
      "10000001 : 129\n",
      "______________________\n",
      "01111111 : 127\n",
      "+\n",
      "00000011 : 3\n",
      "=\n",
      "10000010 : 130\n",
      "______________________\n",
      "01111111 : 127\n",
      "+\n",
      "00000100 : 4\n",
      "=\n",
      "10000011 : 131\n"
     ]
    }
   ],
   "source": [
    "test_add(127, 1)\n",
    "test_add(127, 2)\n",
    "test_add(127, 3)\n",
    "test_add(127, 4)"
   ]
  },
  {
   "cell_type": "code",
   "execution_count": 15,
   "metadata": {},
   "outputs": [
    {
     "name": "stdout",
     "output_type": "stream",
     "text": [
      "10010101\n",
      "flip\n",
      "01101010\n"
     ]
    }
   ],
   "source": [
    "a = Number(149)\n",
    "print(a)\n",
    "print(\"flip\")\n",
    "a.flip()\n",
    "print(a)"
   ]
  },
  {
   "cell_type": "code",
   "execution_count": null,
   "metadata": {},
   "outputs": [],
   "source": [
    "negative_numbers = []\n",
    "for binary in binary_numbers:\n",
    "    flipped_bits = ''.join('1' if bit == '0' else '0' for bit in binary)\n",
    "    negative_number = int(flipped_bits, 2) + 1\n",
    "    negative_numbers.append(negative_number)\n",
    "\n",
    "\n",
    "negative_numbers = []\n",
    "for binary in binary_numbers:\n",
    "    flipped_bits = ''.join('1' if bit == '0' else '0' for bit in binary)\n",
    "    \n",
    "    # Check if the most significant bit is 1 (indicating a negative number)\n",
    "    if flipped_bits[0] == '1':\n",
    "        # Convert the binary representation to a negative number\n",
    "        # The value is -128 (because the MSB is 1) plus the value of the remaining 7 bits\n",
    "        value = -128 + int(flipped_bits[1:], 2)\n",
    "    else:\n",
    "        # If the MSB is 0, it's a positive number, so we simply convert it to an integer\n",
    "        value = int(binary, 2)\n",
    "    negative_numbers.append(value)\n",
    "\n",
    "\n"
   ]
  },
  {
   "cell_type": "code",
   "execution_count": null,
   "metadata": {},
   "outputs": [],
   "source": [
    "import numpy as np\n",
    "\n",
    "def binary_string_to_number(binary_string):\n",
    "    return Number(int(binary_string, 2))\n",
    "\n",
    "binary_numbers = [np.binary_repr(number, width=8) for number in range(256)]\n",
    "\n",
    "negative_numbers = []\n",
    "for binary in binary_numbers:\n",
    "    num = binary_string_to_number(binary)\n",
    "    neg_num = -num\n",
    "    negative_numbers.append(neg_num.signed)\n"
   ]
  },
  {
   "cell_type": "code",
   "execution_count": 16,
   "metadata": {},
   "outputs": [
    {
     "data": {
      "text/plain": [
       "[<matplotlib.lines.Line2D at 0x12206f8e0>]"
      ]
     },
     "execution_count": 16,
     "metadata": {},
     "output_type": "execute_result"
    },
    {
     "data": {
      "image/png": "[encoded data removed]",
      "text/plain": [
       "<Figure size 640x480 with 1 Axes>"
      ]
     },
     "metadata": {},
     "output_type": "display_data"
    }
   ],
   "source": [
    "x = [i for i in range(256)]\n",
    "# what I want : \n",
    "y = [i-128 for i in x]\n",
    "#y = negative_numbers\n",
    "\n",
    "plt.plot(x,y)"
   ]
  },
  {
   "cell_type": "code",
   "execution_count": null,
   "metadata": {},
   "outputs": [],
   "source": [
    "#so I want to take -128 + x and represent it as a unsigned integer\n"
   ]
  },
  {
   "cell_type": "code",
   "execution_count": 54,
   "metadata": {},
   "outputs": [
    {
     "name": "stdout",
     "output_type": "stream",
     "text": [
      "['0 -> 0', '1 -> 127', '2 -> 126', '3 -> 125', '4 -> 124', '5 -> 123', '6 -> 122', '7 -> 121', '8 -> 120', '9 -> 119', '10 -> 118', '11 -> 117', '12 -> 116', '13 -> 115', '14 -> 114', '15 -> 113', '16 -> 112', '17 -> 111', '18 -> 110', '19 -> 109', '20 -> 108', '21 -> 107', '22 -> 106', '23 -> 105', '24 -> 104', '25 -> 103', '26 -> 102', '27 -> 101', '28 -> 100', '29 -> 99', '30 -> 98', '31 -> 97', '32 -> 96', '33 -> 95', '34 -> 94', '35 -> 93', '36 -> 92', '37 -> 91', '38 -> 90', '39 -> 89', '40 -> 88', '41 -> 87', '42 -> 86', '43 -> 85', '44 -> 84', '45 -> 83', '46 -> 82', '47 -> 81', '48 -> 80', '49 -> 79', '50 -> 78', '51 -> 77', '52 -> 76', '53 -> 75', '54 -> 74', '55 -> 73', '56 -> 72', '57 -> 71', '58 -> 70', '59 -> 69', '60 -> 68', '61 -> 67', '62 -> 66', '63 -> 65', '64 -> 64', '65 -> 63', '66 -> 62', '67 -> 61', '68 -> 60', '69 -> 59', '70 -> 58', '71 -> 57', '72 -> 56', '73 -> 55', '74 -> 54', '75 -> 53', '76 -> 52', '77 -> 51', '78 -> 50', '79 -> 49', '80 -> 48', '81 -> 47', '82 -> 46', '83 -> 45', '84 -> 44', '85 -> 43', '86 -> 42', '87 -> 41', '88 -> 40', '89 -> 39', '90 -> 38', '91 -> 37', '92 -> 36', '93 -> 35', '94 -> 34', '95 -> 33', '96 -> 32', '97 -> 31', '98 -> 30', '99 -> 29', '100 -> 28', '101 -> 27', '102 -> 26', '103 -> 25', '104 -> 24', '105 -> 23', '106 -> 22', '107 -> 21', '108 -> 20', '109 -> 19', '110 -> 18', '111 -> 17', '112 -> 16', '113 -> 15', '114 -> 14', '115 -> 13', '116 -> 12', '117 -> 11', '118 -> 10', '119 -> 9', '120 -> 8', '121 -> 7', '122 -> 6', '123 -> 5', '124 -> 4', '125 -> 3', '126 -> 2', '127 -> 1', '128 -> 0', '129 -> 127', '130 -> 126', '131 -> 125', '132 -> 124', '133 -> 123', '134 -> 122', '135 -> 121', '136 -> 120', '137 -> 119', '138 -> 118', '139 -> 117', '140 -> 116', '141 -> 115', '142 -> 114', '143 -> 113', '144 -> 112', '145 -> 111', '146 -> 110', '147 -> 109', '148 -> 108', '149 -> 107', '150 -> 106', '151 -> 105', '152 -> 104', '153 -> 103', '154 -> 102', '155 -> 101', '156 -> 100', '157 -> 99', '158 -> 98', '159 -> 97', '160 -> 96', '161 -> 95', '162 -> 94', '163 -> 93', '164 -> 92', '165 -> 91', '166 -> 90', '167 -> 89', '168 -> 88', '169 -> 87', '170 -> 86', '171 -> 85', '172 -> 84', '173 -> 83', '174 -> 82', '175 -> 81', '176 -> 80', '177 -> 79', '178 -> 78', '179 -> 77', '180 -> 76', '181 -> 75', '182 -> 74', '183 -> 73', '184 -> 72', '185 -> 71', '186 -> 70', '187 -> 69', '188 -> 68', '189 -> 67', '190 -> 66', '191 -> 65', '192 -> 64', '193 -> 63', '194 -> 62', '195 -> 61', '196 -> 60', '197 -> 59', '198 -> 58', '199 -> 57', '200 -> 56', '201 -> 55', '202 -> 54', '203 -> 53', '204 -> 52', '205 -> 51', '206 -> 50', '207 -> 49', '208 -> 48', '209 -> 47', '210 -> 46', '211 -> 45', '212 -> 44', '213 -> 43', '214 -> 42', '215 -> 41', '216 -> 40', '217 -> 39', '218 -> 38', '219 -> 37', '220 -> 36', '221 -> 35', '222 -> 34', '223 -> 33', '224 -> 32', '225 -> 31', '226 -> 30', '227 -> 29', '228 -> 28', '229 -> 27', '230 -> 26', '231 -> 25', '232 -> 24', '233 -> 23', '234 -> 22', '235 -> 21', '236 -> 20', '237 -> 19', '238 -> 18', '239 -> 17', '240 -> 16', '241 -> 15', '242 -> 14', '243 -> 13', '244 -> 12', '245 -> 11', '246 -> 10', '247 -> 9', '248 -> 8', '249 -> 7', '250 -> 6', '251 -> 5', '252 -> 4', '253 -> 3', '254 -> 2', '255 -> 1']\n"
     ]
    }
   ],
   "source": [
    "print([f\"{x} -> {y}\" for x, y in zip(x, y)])"
   ]
  },
  {
   "cell_type": "code",
   "execution_count": null,
   "metadata": {},
   "outputs": [],
   "source": [
    "import numpy as np\n",
    "\n",
    "def binary_string_to_number(binary_string):\n",
    "    return Number(int(binary_string, 2))\n",
    "\n",
    "binary_numbers = [np.binary_repr(number, width=8) for number in range(256)]\n",
    "\n",
    "negative_numbers = []\n",
    "for binary in binary_numbers:\n",
    "    num = binary_string_to_number(binary)\n",
    "    neg_num = -num\n",
    "    negative_numbers.append(neg_num.signed)"
   ]
  },
  {
   "cell_type": "code",
   "execution_count": 9,
   "metadata": {},
   "outputs": [
    {
     "data": {
      "image/png": "[encoded data removed]",
      "text/plain": [
       "<Figure size 640x480 with 1 Axes>"
      ]
     },
     "metadata": {},
     "output_type": "display_data"
    }
   ],
   "source": [
    "import matplotlib.pyplot as plt\n",
    "import numpy as np\n",
    "\n",
    "# Generate all possible 8-bit binary numbers\n",
    "binary_numbers = [i for i in range(256)]\n",
    "binary_numbers = list(map(lambda x: np.binary_repr(x, width=8), binary_numbers))\n",
    "\n",
    "# Perform the negative operation on each binary number\n",
    "negative_numbers = []\n",
    "for binary in binary_numbers:\n",
    "    flipped_bits = ''.join('1' if bit == '0' else '0' for bit in binary)\n",
    "    negative_number = int(flipped_bits, 2) + 1\n",
    "    negative_numbers.append(negative_number)\n",
    "\n",
    "# Plot the curve\n",
    "plt.plot(range(256), negative_numbers)\n",
    "plt.xlabel('Input')\n",
    "plt.ylabel('Negative Output')\n",
    "plt.title('Negative Operation Curve')\n",
    "plt.show()\n"
   ]
  },
  {
   "cell_type": "code",
   "execution_count": 6,
   "metadata": {},
   "outputs": [
    {
     "data": {
      "text/plain": [
       "'110'"
      ]
     },
     "execution_count": 6,
     "metadata": {},
     "output_type": "execute_result"
    }
   ],
   "source": [
    "np.binary_repr(6)"
   ]
  },
  {
   "cell_type": "code",
   "execution_count": 4,
   "metadata": {},
   "outputs": [
    {
     "name": "stdout",
     "output_type": "stream",
     "text": [
      "Help on function binary_repr in module numpy:\n",
      "\n",
      "binary_repr(num, width=None)\n",
      "    Return the binary representation of the input number as a string.\n",
      "    \n",
      "    For negative numbers, if width is not given, a minus sign is added to the\n",
      "    front. If width is given, the two's complement of the number is\n",
      "    returned, with respect to that width.\n",
      "    \n",
      "    In a two's-complement system negative numbers are represented by the two's\n",
      "    complement of the absolute value. This is the most common method of\n",
      "    representing signed integers on computers [1]_. A N-bit two's-complement\n",
      "    system can represent every integer in the range\n",
      "    :math:`-2^{N-1}` to :math:`+2^{N-1}-1`.\n",
      "    \n",
      "    Parameters\n",
      "    ----------\n",
      "    num : int\n",
      "        Only an integer decimal number can be used.\n",
      "    width : int, optional\n",
      "        The length of the returned string if `num` is positive, or the length\n",
      "        of the two's complement if `num` is negative, provided that `width` is\n",
      "        at least a sufficient number of bits for `num` to be represented in the\n",
      "        designated form.\n",
      "    \n",
      "        If the `width` value is insufficient, it will be ignored, and `num` will\n",
      "        be returned in binary (`num` > 0) or two's complement (`num` < 0) form\n",
      "        with its width equal to the minimum number of bits needed to represent\n",
      "        the number in the designated form. This behavior is deprecated and will\n",
      "        later raise an error.\n",
      "    \n",
      "        .. deprecated:: 1.12.0\n",
      "    \n",
      "    Returns\n",
      "    -------\n",
      "    bin : str\n",
      "        Binary representation of `num` or two's complement of `num`.\n",
      "    \n",
      "    See Also\n",
      "    --------\n",
      "    base_repr: Return a string representation of a number in the given base\n",
      "               system.\n",
      "    bin: Python's built-in binary representation generator of an integer.\n",
      "    \n",
      "    Notes\n",
      "    -----\n",
      "    `binary_repr` is equivalent to using `base_repr` with base 2, but about 25x\n",
      "    faster.\n",
      "    \n",
      "    References\n",
      "    ----------\n",
      "    .. [1] Wikipedia, \"Two's complement\",\n",
      "        https://en.wikipedia.org/wiki/Two's_complement\n",
      "    \n",
      "    Examples\n",
      "    --------\n",
      "    >>> np.binary_repr(3)\n",
      "    '11'\n",
      "    >>> np.binary_repr(-3)\n",
      "    '-11'\n",
      "    >>> np.binary_repr(3, width=4)\n",
      "    '0011'\n",
      "    \n",
      "    The two's complement is returned when the input number is negative and\n",
      "    width is specified:\n",
      "    \n",
      "    >>> np.binary_repr(-3, width=3)\n",
      "    '101'\n",
      "    >>> np.binary_repr(-3, width=5)\n",
      "    '11101'\n",
      "\n"
     ]
    }
   ],
   "source": [
    "help(np.binary_repr)"
   ]
  },
  {
   "cell_type": "code",
   "execution_count": 2,
   "metadata": {},
   "outputs": [
    {
     "ename": "TypeError",
     "evalue": "only integer scalar arrays can be converted to a scalar index",
     "output_type": "error",
     "traceback": [
      "\u001b[0;31m---------------------------------------------------------------------------\u001b[0m",
      "\u001b[0;31mTypeError\u001b[0m                                 Traceback (most recent call last)",
      "Cell \u001b[0;32mIn[2], line 2\u001b[0m\n\u001b[1;32m      1\u001b[0m binary_numbers \u001b[38;5;241m=\u001b[39m np\u001b[38;5;241m.\u001b[39marange(\u001b[38;5;241m256\u001b[39m)\n\u001b[0;32m----> 2\u001b[0m binary_numbers \u001b[38;5;241m=\u001b[39m \u001b[43mnp\u001b[49m\u001b[38;5;241;43m.\u001b[39;49m\u001b[43mbinary_repr\u001b[49m\u001b[43m(\u001b[49m\u001b[43mbinary_numbers\u001b[49m\u001b[43m,\u001b[49m\u001b[43m \u001b[49m\u001b[43mwidth\u001b[49m\u001b[38;5;241;43m=\u001b[39;49m\u001b[38;5;241;43m8\u001b[39;49m\u001b[43m)\u001b[49m\n",
      "File \u001b[0;32m~/Documents/GitHub/aiforbattle/venv/lib/python3.9/site-packages/numpy/core/numeric.py:2017\u001b[0m, in \u001b[0;36mbinary_repr\u001b[0;34m(num, width)\u001b[0m\n\u001b[1;32m   2010\u001b[0m         warnings\u001b[38;5;241m.\u001b[39mwarn(\n\u001b[1;32m   2011\u001b[0m             \u001b[38;5;124m\"\u001b[39m\u001b[38;5;124mInsufficient bit width provided. This behavior \u001b[39m\u001b[38;5;124m\"\u001b[39m\n\u001b[1;32m   2012\u001b[0m             \u001b[38;5;124m\"\u001b[39m\u001b[38;5;124mwill raise an error in the future.\u001b[39m\u001b[38;5;124m\"\u001b[39m, \u001b[38;5;167;01mDeprecationWarning\u001b[39;00m,\n\u001b[1;32m   2013\u001b[0m             stacklevel\u001b[38;5;241m=\u001b[39m\u001b[38;5;241m3\u001b[39m)\n\u001b[1;32m   2015\u001b[0m \u001b[38;5;66;03m# Ensure that num is a Python integer to avoid overflow or unwanted\u001b[39;00m\n\u001b[1;32m   2016\u001b[0m \u001b[38;5;66;03m# casts to floating point.\u001b[39;00m\n\u001b[0;32m-> 2017\u001b[0m num \u001b[38;5;241m=\u001b[39m \u001b[43moperator\u001b[49m\u001b[38;5;241;43m.\u001b[39;49m\u001b[43mindex\u001b[49m\u001b[43m(\u001b[49m\u001b[43mnum\u001b[49m\u001b[43m)\u001b[49m\n\u001b[1;32m   2019\u001b[0m \u001b[38;5;28;01mif\u001b[39;00m num \u001b[38;5;241m==\u001b[39m \u001b[38;5;241m0\u001b[39m:\n\u001b[1;32m   2020\u001b[0m     \u001b[38;5;28;01mreturn\u001b[39;00m \u001b[38;5;124m'\u001b[39m\u001b[38;5;124m0\u001b[39m\u001b[38;5;124m'\u001b[39m \u001b[38;5;241m*\u001b[39m (width \u001b[38;5;129;01mor\u001b[39;00m \u001b[38;5;241m1\u001b[39m)\n",
      "\u001b[0;31mTypeError\u001b[0m: only integer scalar arrays can be converted to a scalar index"
     ]
    }
   ],
   "source": [
    "sbinary_numbers = np.arange(256)\n",
    "binary_numbers = np.binary_repr(binary_numbers, width=8)"
   ]
  }
 ],
 "metadata": {
  "kernelspec": {
   "display_name": "aifb",
   "language": "python",
   "name": "aifb"
  }
 },
 "nbformat": 4,
 "nbformat_minor": 2
}

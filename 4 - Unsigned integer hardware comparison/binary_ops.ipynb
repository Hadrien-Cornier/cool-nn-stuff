{
 "cells": [
  {
   "cell_type": "code",
   "execution_count": 2,
   "metadata": {},
   "outputs": [],
   "source": [
    "import matplotlib.pyplot as plt\n",
    "import numpy as np"
   ]
  },
  {
   "cell_type": "code",
   "execution_count": 19,
   "metadata": {},
   "outputs": [],
   "source": [
    "# Number object for performing string based bitwise operations,\n",
    "# which is basically like a tiny version of a HDL for logic gates\n",
    "class Number():\n",
    "    \n",
    "\n",
    "    def __init__(self, number):\n",
    "        self.bits = np.binary_repr(number, width=8)\n",
    "    \n",
    "    def __repr__(self):\n",
    "        return self.bits\n",
    "        \n",
    "    def flip(self):\n",
    "        self.bits = Number.not_op(self.bits)\n",
    "    \n",
    "    def __iadd__(self, other):\n",
    "        self.bits = Number.add_op(self.bits, other.bits)\n",
    "        return self\n",
    "    \n",
    "    def __neg__(self):\n",
    "        self.flip()\n",
    "        self += Number(1)\n",
    "        return self\n",
    "\n",
    "    @staticmethod\n",
    "    def and_op(a, b):\n",
    "        return ''.join('1' if a[i] == '1' and b[i] == '1' else '0' for i in range(len(a)))\n",
    "\n",
    "    @staticmethod\n",
    "    def or_op(a, b):\n",
    "        return ''.join('1' if a[i] == '1' or b[i] == '1' else '0' for i in range(len(a)))\n",
    "\n",
    "    @staticmethod\n",
    "    def xor_op(a, b):\n",
    "        return ''.join('1' if a[i] != b[i] else '0' for i in range(len(a)))\n",
    "\n",
    "    @staticmethod\n",
    "    def not_op(a):\n",
    "        return ''.join('1' if bit == '0' else '0' for bit in a)\n",
    "\n",
    "    @staticmethod\n",
    "    def add_op(a, b):\n",
    "        a = list(a)\n",
    "        b = list(b)\n",
    "        carry = 0\n",
    "        for i in range(len(a) - 1, -1, -1):\n",
    "            a[i] = int(a[i])\n",
    "            b[i] = int(b[i])\n",
    "            a[i], carry = (a[i] ^ b[i] ^ carry), (a[i] & b[i]) | (a[i] & carry) | (b[i] & carry)\n",
    "        return ''.join(str(bit) for bit in a)\n",
    "    \n",
    "    @property\n",
    "    def decimal(self):\n",
    "        return int(self.bits, 2)\n",
    "    \n",
    "    @property\n",
    "    def signed(self):\n",
    "        return self.decimal - 256 if self.bits[0] == '1' else self.decimal"
   ]
  },
  {
   "cell_type": "code",
   "execution_count": 4,
   "metadata": {},
   "outputs": [
    {
     "name": "stdout",
     "output_type": "stream",
     "text": [
      "______________________\n",
      " a: 00000101  | decimal :  5\n",
      "-a: 11111011  | decimal :  251\n",
      "______________________\n",
      " a: 00000110  | decimal :  6\n",
      "-a: 11111010  | decimal :  250\n",
      "______________________\n",
      " a: 00000111  | decimal :  7\n",
      "-a: 11111001  | decimal :  249\n",
      "______________________\n",
      " a: 00001000  | decimal :  8\n",
      "-a: 11111000  | decimal :  248\n"
     ]
    }
   ],
   "source": [
    "for i in range(4):\n",
    "    print(\"______________________\")\n",
    "    a = Number(5+i)\n",
    "    print(\" a:\", a, \" | decimal : \", a.decimal) \n",
    "    -a \n",
    "    print(\"-a:\", a, \" | decimal : \", a.decimal)"
   ]
  },
  {
   "cell_type": "code",
   "execution_count": 5,
   "metadata": {},
   "outputs": [],
   "source": [
    "def test_add(a,b):\n",
    "    print(\"______________________\")\n",
    "    a = Number(a)\n",
    "    b = Number(b)\n",
    "\n",
    "    print(a.bits + \" : \" + str(int(a.bits, 2)))\n",
    "    print(\"+\")\n",
    "    print(b.bits + \" : \" + str(int(b.bits, 2)))\n",
    "    a += b\n",
    "    print(\"=\")\n",
    "    print(a.bits + \" : \" + str(int(a.bits, 2)))\n"
   ]
  },
  {
   "cell_type": "code",
   "execution_count": 6,
   "metadata": {},
   "outputs": [
    {
     "name": "stdout",
     "output_type": "stream",
     "text": [
      "______________________\n",
      "01111111 : 127\n",
      "+\n",
      "00000001 : 1\n",
      "=\n",
      "10000000 : 128\n",
      "______________________\n",
      "01111111 : 127\n",
      "+\n",
      "00000010 : 2\n",
      "=\n",
      "10000001 : 129\n",
      "______________________\n",
      "01111111 : 127\n",
      "+\n",
      "00000011 : 3\n",
      "=\n",
      "10000010 : 130\n",
      "______________________\n",
      "01111111 : 127\n",
      "+\n",
      "00000100 : 4\n",
      "=\n",
      "10000011 : 131\n"
     ]
    }
   ],
   "source": [
    "test_add(127, 1)\n",
    "test_add(127, 2)\n",
    "test_add(127, 3)\n",
    "test_add(127, 4)"
   ]
  },
  {
   "cell_type": "code",
   "execution_count": 7,
   "metadata": {},
   "outputs": [
    {
     "name": "stdout",
     "output_type": "stream",
     "text": [
      "10010101\n",
      "flip\n",
      "01101010\n"
     ]
    }
   ],
   "source": [
    "a = Number(149)\n",
    "print(a)\n",
    "print(\"flip\")\n",
    "a.flip()\n",
    "print(a)"
   ]
  },
  {
   "cell_type": "code",
   "execution_count": 8,
   "metadata": {},
   "outputs": [],
   "source": [
    "# negative_numbers = []\n",
    "# for binary in binary_numbers:\n",
    "#     flipped_bits = ''.join('1' if bit == '0' else '0' for bit in binary)\n",
    "#     negative_number = int(flipped_bits, 2) + 1\n",
    "#     negative_numbers.append(negative_number)\n",
    "\n",
    "\n",
    "# negative_numbers = []\n",
    "# for binary in binary_numbers:\n",
    "#     flipped_bits = ''.join('1' if bit == '0' else '0' for bit in binary)\n",
    "    \n",
    "#     # Check if the most significant bit is 1 (indicating a negative number)\n",
    "#     if flipped_bits[0] == '1':\n",
    "#         # Convert the binary representation to a negative number\n",
    "#         # The value is -128 (because the MSB is 1) plus the value of the remaining 7 bits\n",
    "#         value = -128 + int(flipped_bits[1:], 2)\n",
    "#     else:\n",
    "#         # If the MSB is 0, it's a positive number, so we simply convert it to an integer\n",
    "#         value = int(binary, 2)\n",
    "#     negative_numbers.append(value)\n",
    "\n",
    "\n"
   ]
  },
  {
   "cell_type": "code",
   "execution_count": 9,
   "metadata": {},
   "outputs": [
    {
     "data": {
      "text/plain": [
       "[<matplotlib.lines.Line2D at 0x1225005b0>]"
      ]
     },
     "execution_count": 9,
     "metadata": {},
     "output_type": "execute_result"
    },
    {
     "data": {
      "image/png": "[encoded data removed]",
      "text/plain": [
       "<Figure size 640x480 with 1 Axes>"
      ]
     },
     "metadata": {},
     "output_type": "display_data"
    }
   ],
   "source": [
    "x = [i for i in range(256)]\n",
    "# what I want : \n",
    "y = [i-128 for i in x]\n",
    "#y = negative_numbers\n",
    "\n",
    "plt.plot(x,y)"
   ]
  },
  {
   "cell_type": "code",
   "execution_count": 10,
   "metadata": {},
   "outputs": [
    {
     "name": "stdout",
     "output_type": "stream",
     "text": [
      "10010101\n"
     ]
    }
   ],
   "source": [
    "#so I want to take -128 + x and represent it as a unsigned integer\n",
    "\n",
    "a = Number(149)\n",
    "print(a)"
   ]
  },
  {
   "cell_type": "code",
   "execution_count": 13,
   "metadata": {},
   "outputs": [
    {
     "name": "stdout",
     "output_type": "stream",
     "text": [
      "00010101\n"
     ]
    }
   ],
   "source": [
    "b = Number(149-128)\n",
    "print(b)"
   ]
  },
  {
   "cell_type": "markdown",
   "metadata": {},
   "source": [
    "So if the leading bit is one, it allows us to remove 128 to send the right half of the curve where it needs to be.\n",
    "If the leading bit is not one, what do we do ?"
   ]
  },
  {
   "cell_type": "code",
   "execution_count": 14,
   "metadata": {},
   "outputs": [
    {
     "name": "stdout",
     "output_type": "stream",
     "text": [
      "01000001\n"
     ]
    }
   ],
   "source": [
    "c = Number(65)\n",
    "print(c)"
   ]
  },
  {
   "cell_type": "code",
   "execution_count": 20,
   "metadata": {},
   "outputs": [
    {
     "name": "stdout",
     "output_type": "stream",
     "text": [
      "01000001\n",
      "11000001\n"
     ]
    },
    {
     "data": {
      "text/plain": [
       "-63"
      ]
     },
     "execution_count": 20,
     "metadata": {},
     "output_type": "execute_result"
    }
   ],
   "source": [
    "c = Number(65)\n",
    "print(c)\n",
    "d = Number.xor_op('10000000', c.bits)\n",
    "print(d)\n",
    "D = Number(0)\n",
    "D.bits = d\n",
    "D.signed\n",
    "\n"
   ]
  },
  {
   "cell_type": "code",
   "execution_count": 21,
   "metadata": {},
   "outputs": [
    {
     "data": {
      "text/plain": [
       "-63"
      ]
     },
     "execution_count": 21,
     "metadata": {},
     "output_type": "execute_result"
    }
   ],
   "source": [
    "65 - 128"
   ]
  },
  {
   "cell_type": "markdown",
   "metadata": {},
   "source": [
    "So the solution is just XOR with 10000000 and then use the correct signed comparison gate\n",
    "This is the perfect transformation : the one that conserves the ordering of both spaces at the same time as it is a bijection"
   ]
  },
  {
   "cell_type": "markdown",
   "metadata": {},
   "source": []
  },
  {
   "cell_type": "code",
   "execution_count": 11,
   "metadata": {},
   "outputs": [
    {
     "name": "stdout",
     "output_type": "stream",
     "text": [
      "['0 -> -128', '1 -> -127', '2 -> -126', '3 -> -125', '4 -> -124', '5 -> -123', '6 -> -122', '7 -> -121', '8 -> -120', '9 -> -119', '10 -> -118', '11 -> -117', '12 -> -116', '13 -> -115', '14 -> -114', '15 -> -113', '16 -> -112', '17 -> -111', '18 -> -110', '19 -> -109', '20 -> -108', '21 -> -107', '22 -> -106', '23 -> -105', '24 -> -104', '25 -> -103', '26 -> -102', '27 -> -101', '28 -> -100', '29 -> -99', '30 -> -98', '31 -> -97', '32 -> -96', '33 -> -95', '34 -> -94', '35 -> -93', '36 -> -92', '37 -> -91', '38 -> -90', '39 -> -89', '40 -> -88', '41 -> -87', '42 -> -86', '43 -> -85', '44 -> -84', '45 -> -83', '46 -> -82', '47 -> -81', '48 -> -80', '49 -> -79', '50 -> -78', '51 -> -77', '52 -> -76', '53 -> -75', '54 -> -74', '55 -> -73', '56 -> -72', '57 -> -71', '58 -> -70', '59 -> -69', '60 -> -68', '61 -> -67', '62 -> -66', '63 -> -65', '64 -> -64', '65 -> -63', '66 -> -62', '67 -> -61', '68 -> -60', '69 -> -59', '70 -> -58', '71 -> -57', '72 -> -56', '73 -> -55', '74 -> -54', '75 -> -53', '76 -> -52', '77 -> -51', '78 -> -50', '79 -> -49', '80 -> -48', '81 -> -47', '82 -> -46', '83 -> -45', '84 -> -44', '85 -> -43', '86 -> -42', '87 -> -41', '88 -> -40', '89 -> -39', '90 -> -38', '91 -> -37', '92 -> -36', '93 -> -35', '94 -> -34', '95 -> -33', '96 -> -32', '97 -> -31', '98 -> -30', '99 -> -29', '100 -> -28', '101 -> -27', '102 -> -26', '103 -> -25', '104 -> -24', '105 -> -23', '106 -> -22', '107 -> -21', '108 -> -20', '109 -> -19', '110 -> -18', '111 -> -17', '112 -> -16', '113 -> -15', '114 -> -14', '115 -> -13', '116 -> -12', '117 -> -11', '118 -> -10', '119 -> -9', '120 -> -8', '121 -> -7', '122 -> -6', '123 -> -5', '124 -> -4', '125 -> -3', '126 -> -2', '127 -> -1', '128 -> 0', '129 -> 1', '130 -> 2', '131 -> 3', '132 -> 4', '133 -> 5', '134 -> 6', '135 -> 7', '136 -> 8', '137 -> 9', '138 -> 10', '139 -> 11', '140 -> 12', '141 -> 13', '142 -> 14', '143 -> 15', '144 -> 16', '145 -> 17', '146 -> 18', '147 -> 19', '148 -> 20', '149 -> 21', '150 -> 22', '151 -> 23', '152 -> 24', '153 -> 25', '154 -> 26', '155 -> 27', '156 -> 28', '157 -> 29', '158 -> 30', '159 -> 31', '160 -> 32', '161 -> 33', '162 -> 34', '163 -> 35', '164 -> 36', '165 -> 37', '166 -> 38', '167 -> 39', '168 -> 40', '169 -> 41', '170 -> 42', '171 -> 43', '172 -> 44', '173 -> 45', '174 -> 46', '175 -> 47', '176 -> 48', '177 -> 49', '178 -> 50', '179 -> 51', '180 -> 52', '181 -> 53', '182 -> 54', '183 -> 55', '184 -> 56', '185 -> 57', '186 -> 58', '187 -> 59', '188 -> 60', '189 -> 61', '190 -> 62', '191 -> 63', '192 -> 64', '193 -> 65', '194 -> 66', '195 -> 67', '196 -> 68', '197 -> 69', '198 -> 70', '199 -> 71', '200 -> 72', '201 -> 73', '202 -> 74', '203 -> 75', '204 -> 76', '205 -> 77', '206 -> 78', '207 -> 79', '208 -> 80', '209 -> 81', '210 -> 82', '211 -> 83', '212 -> 84', '213 -> 85', '214 -> 86', '215 -> 87', '216 -> 88', '217 -> 89', '218 -> 90', '219 -> 91', '220 -> 92', '221 -> 93', '222 -> 94', '223 -> 95', '224 -> 96', '225 -> 97', '226 -> 98', '227 -> 99', '228 -> 100', '229 -> 101', '230 -> 102', '231 -> 103', '232 -> 104', '233 -> 105', '234 -> 106', '235 -> 107', '236 -> 108', '237 -> 109', '238 -> 110', '239 -> 111', '240 -> 112', '241 -> 113', '242 -> 114', '243 -> 115', '244 -> 116', '245 -> 117', '246 -> 118', '247 -> 119', '248 -> 120', '249 -> 121', '250 -> 122', '251 -> 123', '252 -> 124', '253 -> 125', '254 -> 126', '255 -> 127']\n"
     ]
    }
   ],
   "source": [
    "print([f\"{x} -> {y}\" for x, y in zip(x, y)])"
   ]
  },
  {
   "cell_type": "code",
   "execution_count": 12,
   "metadata": {},
   "outputs": [
    {
     "name": "stdout",
     "output_type": "stream",
     "text": [
      "Help on function binary_repr in module numpy:\n",
      "\n",
      "binary_repr(num, width=None)\n",
      "    Return the binary representation of the input number as a string.\n",
      "    \n",
      "    For negative numbers, if width is not given, a minus sign is added to the\n",
      "    front. If width is given, the two's complement of the number is\n",
      "    returned, with respect to that width.\n",
      "    \n",
      "    In a two's-complement system negative numbers are represented by the two's\n",
      "    complement of the absolute value. This is the most common method of\n",
      "    representing signed integers on computers [1]_. A N-bit two's-complement\n",
      "    system can represent every integer in the range\n",
      "    :math:`-2^{N-1}` to :math:`+2^{N-1}-1`.\n",
      "    \n",
      "    Parameters\n",
      "    ----------\n",
      "    num : int\n",
      "        Only an integer decimal number can be used.\n",
      "    width : int, optional\n",
      "        The length of the returned string if `num` is positive, or the length\n",
      "        of the two's complement if `num` is negative, provided that `width` is\n",
      "        at least a sufficient number of bits for `num` to be represented in the\n",
      "        designated form.\n",
      "    \n",
      "        If the `width` value is insufficient, it will be ignored, and `num` will\n",
      "        be returned in binary (`num` > 0) or two's complement (`num` < 0) form\n",
      "        with its width equal to the minimum number of bits needed to represent\n",
      "        the number in the designated form. This behavior is deprecated and will\n",
      "        later raise an error.\n",
      "    \n",
      "        .. deprecated:: 1.12.0\n",
      "    \n",
      "    Returns\n",
      "    -------\n",
      "    bin : str\n",
      "        Binary representation of `num` or two's complement of `num`.\n",
      "    \n",
      "    See Also\n",
      "    --------\n",
      "    base_repr: Return a string representation of a number in the given base\n",
      "               system.\n",
      "    bin: Python's built-in binary representation generator of an integer.\n",
      "    \n",
      "    Notes\n",
      "    -----\n",
      "    `binary_repr` is equivalent to using `base_repr` with base 2, but about 25x\n",
      "    faster.\n",
      "    \n",
      "    References\n",
      "    ----------\n",
      "    .. [1] Wikipedia, \"Two's complement\",\n",
      "        https://en.wikipedia.org/wiki/Two's_complement\n",
      "    \n",
      "    Examples\n",
      "    --------\n",
      "    >>> np.binary_repr(3)\n",
      "    '11'\n",
      "    >>> np.binary_repr(-3)\n",
      "    '-11'\n",
      "    >>> np.binary_repr(3, width=4)\n",
      "    '0011'\n",
      "    \n",
      "    The two's complement is returned when the input number is negative and\n",
      "    width is specified:\n",
      "    \n",
      "    >>> np.binary_repr(-3, width=3)\n",
      "    '101'\n",
      "    >>> np.binary_repr(-3, width=5)\n",
      "    '11101'\n",
      "\n"
     ]
    }
   ],
   "source": [
    "help(np.binary_repr)"
   ]
  }
 ],
 "metadata": {
  "kernelspec": {
   "display_name": "aifb",
   "language": "python",
   "name": "aifb"
  },
  "language_info": {
   "codemirror_mode": {
    "name": "ipython",
    "version": 3
   },
   "file_extension": ".py",
   "mimetype": "text/x-python",
   "name": "python",
   "nbconvert_exporter": "python",
   "pygments_lexer": "ipython3",
   "version": "3.9.6"
  }
 },
 "nbformat": 4,
 "nbformat_minor": 2
}

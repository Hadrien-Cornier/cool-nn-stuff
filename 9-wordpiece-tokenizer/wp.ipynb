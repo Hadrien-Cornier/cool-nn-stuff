{
 "cells": [
  {
   "cell_type": "markdown",
   "metadata": {},
   "source": [
    "The core of WordPiece is that we will consider the following ratio to be the guide for the next tokens to merge : \n",
    "\n",
    "$$R = \\frac{f(AB)}{f(A)f(B)}$$\n",
    "\n",
    "where $f$  is the frequency"
   ]
  },
  {
   "cell_type": "code",
   "execution_count": 31,
   "metadata": {},
   "outputs": [],
   "source": [
    "from collections import defaultdict"
   ]
  },
  {
   "cell_type": "code",
   "execution_count": 19,
   "metadata": {},
   "outputs": [],
   "source": [
    "training_corpus = \"lorem ipsum dolor sit amet consectetur adipiscing elit sed do eiusmod tempor incididunt ut labore et dolore magna aliqua ut enim ad minim veniam quis nostrud exercitation ullamco laboris nisi ut aliquip ex ea commodo consequat duis aute irure dolor in reprehenderit in voluptate velit esse cillum dolore eu fugiat nulla pariatur excepteur sint occaecat cupidatat non proident sunt in culpa qui officia deserunt mollit anim id est laborum\" "
   ]
  },
  {
   "cell_type": "code",
   "execution_count": 20,
   "metadata": {},
   "outputs": [],
   "source": [
    "words = training_corpus.split()"
   ]
  },
  {
   "cell_type": "code",
   "execution_count": 21,
   "metadata": {},
   "outputs": [],
   "source": [
    "explode_word = lambda word: [word[0]] + [\"##\" + word[i] for i in range(1, len(word))]"
   ]
  },
  {
   "cell_type": "code",
   "execution_count": 22,
   "metadata": {},
   "outputs": [
    {
     "data": {
      "text/plain": [
       "'lorem'"
      ]
     },
     "execution_count": 22,
     "metadata": {},
     "output_type": "execute_result"
    }
   ],
   "source": [
    "words[0]"
   ]
  },
  {
   "cell_type": "code",
   "execution_count": 23,
   "metadata": {},
   "outputs": [
    {
     "name": "stdout",
     "output_type": "stream",
     "text": [
      "this is how we build the original vocaubulary\n"
     ]
    },
    {
     "data": {
      "text/plain": [
       "['l', '##o', '##r', '##e', '##m']"
      ]
     },
     "execution_count": 23,
     "metadata": {},
     "output_type": "execute_result"
    }
   ],
   "source": [
    "print(\"this is how we build the original vocaubulary\")\n",
    "explode_word(words[0])"
   ]
  },
  {
   "cell_type": "code",
   "execution_count": 24,
   "metadata": {},
   "outputs": [],
   "source": [
    "def encode(training_corpus: str) -> dict:\n",
    "    words = training_corpus.split()\n",
    "    return [explode_word(word) for word in words]"
   ]
  },
  {
   "cell_type": "code",
   "execution_count": 25,
   "metadata": {},
   "outputs": [
    {
     "data": {
      "text/plain": [
       "[['l', '##o', '##r', '##e', '##m'], ['i', '##p', '##s', '##u', '##m']]"
      ]
     },
     "execution_count": 25,
     "metadata": {},
     "output_type": "execute_result"
    }
   ],
   "source": [
    "E = encode(training_corpus)\n",
    "E [:2]"
   ]
  },
  {
   "cell_type": "markdown",
   "metadata": {},
   "source": [
    "We need $f$ frequency for each individual token, so that we can compute the denominator "
   ]
  },
  {
   "cell_type": "code",
   "execution_count": 26,
   "metadata": {},
   "outputs": [],
   "source": [
    "def make_tuples(L:list) -> list:\n",
    "    return [list(zip(sub, sub[1:])) for sub in L]\n",
    "tuples = make_tuples(E)\n"
   ]
  },
  {
   "cell_type": "code",
   "execution_count": 27,
   "metadata": {},
   "outputs": [],
   "source": [
    "def new_representation(pre,suff):\n",
    "    if pre.startswith(\"##\"):\n",
    "        return \"##\"+ (pre + suff).replace(\"#\",\"\")\n",
    "    return pre + suff.replace(\"#\",\"\")"
   ]
  },
  {
   "cell_type": "code",
   "execution_count": 30,
   "metadata": {},
   "outputs": [
    {
     "data": {
      "text/plain": [
       "[[('l', '##o'), ('##o', '##r'), ('##r', '##e'), ('##e', '##m')],\n",
       " [('i', '##p'), ('##p', '##s'), ('##s', '##u'), ('##u', '##m')]]"
      ]
     },
     "execution_count": 30,
     "metadata": {},
     "output_type": "execute_result"
    }
   ],
   "source": [
    "tuples = make_tuples(E)\n",
    "tuples[:2]"
   ]
  },
  {
   "cell_type": "code",
   "execution_count": 32,
   "metadata": {},
   "outputs": [
    {
     "data": {
      "text/plain": [
       "defaultdict(int,\n",
       "            {'lo': 1,\n",
       "             '##or': 9,\n",
       "             '##re': 6,\n",
       "             '##em': 2,\n",
       "             'ip': 1,\n",
       "             '##ps': 1,\n",
       "             '##su': 1,\n",
       "             '##um': 3,\n",
       "             'do': 5,\n",
       "             '##ol': 6,\n",
       "             '##lo': 4,\n",
       "             'si': 2,\n",
       "             '##it': 6,\n",
       "             'am': 1,\n",
       "             '##me': 1,\n",
       "             '##et': 2,\n",
       "             'co': 3,\n",
       "             '##on': 4,\n",
       "             '##ns': 2,\n",
       "             '##se': 4,\n",
       "             '##ec': 2,\n",
       "             '##ct': 1,\n",
       "             '##te': 4,\n",
       "             '##tu': 2,\n",
       "             '##ur': 4,\n",
       "             'ad': 2,\n",
       "             '##di': 2,\n",
       "             '##ip': 2,\n",
       "             '##pi': 2,\n",
       "             '##is': 5,\n",
       "             '##sc': 1,\n",
       "             '##ci': 4,\n",
       "             '##in': 3,\n",
       "             '##ng': 1,\n",
       "             'el': 1,\n",
       "             '##li': 5,\n",
       "             'se': 1,\n",
       "             '##ed': 1,\n",
       "             'ei': 1,\n",
       "             '##iu': 1,\n",
       "             '##us': 1,\n",
       "             '##sm': 1,\n",
       "             '##mo': 2,\n",
       "             '##od': 2,\n",
       "             'te': 1,\n",
       "             '##mp': 1,\n",
       "             '##po': 1,\n",
       "             'in': 4,\n",
       "             '##nc': 1,\n",
       "             '##id': 4,\n",
       "             '##du': 1,\n",
       "             '##un': 3,\n",
       "             '##nt': 5,\n",
       "             'ut': 3,\n",
       "             'la': 3,\n",
       "             '##ab': 3,\n",
       "             '##bo': 3,\n",
       "             'et': 1,\n",
       "             'ma': 1,\n",
       "             '##ag': 1,\n",
       "             '##gn': 1,\n",
       "             '##na': 1,\n",
       "             'al': 2,\n",
       "             '##iq': 2,\n",
       "             '##qu': 3,\n",
       "             '##ua': 2,\n",
       "             'en': 1,\n",
       "             '##ni': 4,\n",
       "             '##im': 3,\n",
       "             'mi': 1,\n",
       "             've': 2,\n",
       "             '##en': 3,\n",
       "             '##ia': 4,\n",
       "             '##am': 2,\n",
       "             'qu': 2,\n",
       "             '##ui': 4,\n",
       "             'no': 2,\n",
       "             '##os': 1,\n",
       "             '##st': 2,\n",
       "             '##tr': 1,\n",
       "             '##ru': 4,\n",
       "             '##ud': 1,\n",
       "             'ex': 3,\n",
       "             '##xe': 1,\n",
       "             '##er': 3,\n",
       "             '##rc': 1,\n",
       "             '##ta': 3,\n",
       "             '##at': 8,\n",
       "             '##ti': 1,\n",
       "             '##io': 1,\n",
       "             'ul': 1,\n",
       "             '##ll': 4,\n",
       "             '##la': 2,\n",
       "             '##mc': 1,\n",
       "             '##co': 1,\n",
       "             '##ri': 3,\n",
       "             'ni': 1,\n",
       "             '##si': 1,\n",
       "             'ea': 1,\n",
       "             '##om': 1,\n",
       "             '##mm': 1,\n",
       "             '##do': 1,\n",
       "             '##eq': 1,\n",
       "             'du': 1,\n",
       "             'au': 1,\n",
       "             '##ut': 1,\n",
       "             'ir': 1,\n",
       "             're': 1,\n",
       "             '##ep': 2,\n",
       "             '##pr': 1,\n",
       "             '##eh': 1,\n",
       "             '##he': 1,\n",
       "             '##nd': 1,\n",
       "             '##de': 2,\n",
       "             'vo': 1,\n",
       "             '##lu': 2,\n",
       "             '##up': 2,\n",
       "             '##pt': 2,\n",
       "             '##el': 1,\n",
       "             'es': 2,\n",
       "             '##ss': 1,\n",
       "             'ci': 1,\n",
       "             '##il': 1,\n",
       "             'eu': 1,\n",
       "             'fu': 1,\n",
       "             '##ug': 1,\n",
       "             '##gi': 1,\n",
       "             'nu': 1,\n",
       "             '##ul': 2,\n",
       "             'pa': 1,\n",
       "             '##ar': 1,\n",
       "             '##xc': 1,\n",
       "             '##ce': 1,\n",
       "             '##eu': 1,\n",
       "             'oc': 1,\n",
       "             '##cc': 1,\n",
       "             '##ca': 2,\n",
       "             '##ae': 1,\n",
       "             'cu': 2,\n",
       "             '##da': 1,\n",
       "             'pr': 1,\n",
       "             '##ro': 1,\n",
       "             '##oi': 1,\n",
       "             'su': 1,\n",
       "             '##lp': 1,\n",
       "             '##pa': 1,\n",
       "             'of': 1,\n",
       "             '##ff': 1,\n",
       "             '##fi': 1,\n",
       "             '##ic': 1,\n",
       "             'de': 1,\n",
       "             '##es': 1,\n",
       "             'mo': 1,\n",
       "             'an': 1,\n",
       "             'id': 1})"
      ]
     },
     "execution_count": 32,
     "metadata": {},
     "output_type": "execute_result"
    }
   ],
   "source": [
    "# second order frequency map\n",
    "# ie frequency of bigrams of tokens in the corpus\n",
    "SF = defaultdict(int)\n",
    "for W in tuples : # word \n",
    "    for T in W : # tokens in word\n",
    "        SF[new_representation(*T)] += 1\n",
    "SF"
   ]
  },
  {
   "cell_type": "markdown",
   "metadata": {},
   "source": [
    "If we want to be faster we have to use a trie"
   ]
  },
  {
   "cell_type": "code",
   "execution_count": null,
   "metadata": {},
   "outputs": [],
   "source": []
  },
  {
   "cell_type": "code",
   "execution_count": null,
   "metadata": {},
   "outputs": [
    {
     "ename": "NameError",
     "evalue": "name 'L' is not defined",
     "output_type": "error",
     "traceback": [
      "\u001b[0;31m---------------------------------------------------------------------------\u001b[0m",
      "\u001b[0;31mNameError\u001b[0m                                 Traceback (most recent call last)",
      "Cell \u001b[0;32mIn[25], line 1\u001b[0m\n\u001b[0;32m----> 1\u001b[0m potential_merges \u001b[38;5;241m=\u001b[39m [ new_representation(p,s) \u001b[38;5;28;01mfor\u001b[39;00m (p,s) \u001b[38;5;129;01min\u001b[39;00m L \u001b[38;5;28;01mfor\u001b[39;00m L \u001b[38;5;129;01min\u001b[39;00m make_tuples(E)]\n",
      "\u001b[0;31mNameError\u001b[0m: name 'L' is not defined"
     ]
    }
   ],
   "source": [
    "potential_merges = [ new_representation(p,s) for (p,s) in L for L in make_tuples(E)]\n"
   ]
  },
  {
   "cell_type": "code",
   "execution_count": null,
   "metadata": {},
   "outputs": [
    {
     "data": {
      "text/plain": [
       "[<zip at 0x1204ee140>,\n",
       " <zip at 0x1204ee300>,\n",
       " <zip at 0x1204ee880>,\n",
       " <zip at 0x1204ec500>,\n",
       " <zip at 0x1204ec180>,\n",
       " <zip at 0x1204eeb80>,\n",
       " <zip at 0x1204ef740>,\n",
       " <zip at 0x117c8ad00>,\n",
       " <zip at 0x117c88d80>,\n",
       " <zip at 0x1204ec880>,\n",
       " <zip at 0x117c8a640>,\n",
       " <zip at 0x117c8ac40>,\n",
       " <zip at 0x1117a6780>,\n",
       " <zip at 0x1117a6900>,\n",
       " <zip at 0x1117a6480>,\n",
       " <zip at 0x1117a7c40>,\n",
       " <zip at 0x1117a7400>,\n",
       " <zip at 0x1117a7600>,\n",
       " <zip at 0x1117a6540>,\n",
       " <zip at 0x1117a6bc0>,\n",
       " <zip at 0x12054bb80>,\n",
       " <zip at 0x12054a380>,\n",
       " <zip at 0x1204f2d40>,\n",
       " <zip at 0x1204f0e80>,\n",
       " <zip at 0x1204f1240>,\n",
       " <zip at 0x1204f3980>,\n",
       " <zip at 0x1204f1d40>,\n",
       " <zip at 0x1204f0f40>,\n",
       " <zip at 0x1204f3900>,\n",
       " <zip at 0x1204f0200>,\n",
       " <zip at 0x1204f33c0>,\n",
       " <zip at 0x1204f0900>,\n",
       " <zip at 0x1204f2d80>,\n",
       " <zip at 0x1204f1540>,\n",
       " <zip at 0x1204f1480>,\n",
       " <zip at 0x1204f1880>,\n",
       " <zip at 0x1204f3e40>,\n",
       " <zip at 0x1204f3c80>,\n",
       " <zip at 0x1204f1100>,\n",
       " <zip at 0x1204f06c0>,\n",
       " <zip at 0x1204f2140>,\n",
       " <zip at 0x1204f3a40>,\n",
       " <zip at 0x1204f1dc0>,\n",
       " <zip at 0x1204f19c0>,\n",
       " <zip at 0x1204f3600>,\n",
       " <zip at 0x1204f1c80>,\n",
       " <zip at 0x1204f0600>,\n",
       " <zip at 0x1204f3f00>,\n",
       " <zip at 0x1204f3f80>,\n",
       " <zip at 0x1204f2800>,\n",
       " <zip at 0x1204f2d00>,\n",
       " <zip at 0x1204f3040>,\n",
       " <zip at 0x1204f0c00>,\n",
       " <zip at 0x1204f1fc0>,\n",
       " <zip at 0x120486f00>,\n",
       " <zip at 0x120487fc0>,\n",
       " <zip at 0x1204863c0>,\n",
       " <zip at 0x120484140>,\n",
       " <zip at 0x117c849c0>,\n",
       " <zip at 0x1116fe680>,\n",
       " <zip at 0x1116fc180>,\n",
       " <zip at 0x1116fc200>,\n",
       " <zip at 0x111777840>,\n",
       " <zip at 0x1204fc980>,\n",
       " <zip at 0x1204fe1c0>,\n",
       " <zip at 0x1204fd700>,\n",
       " <zip at 0x1204ff040>,\n",
       " <zip at 0x1204fc500>,\n",
       " <zip at 0x1204ff080>]"
      ]
     },
     "execution_count": 21,
     "metadata": {},
     "output_type": "execute_result"
    }
   ],
   "source": [
    "make_tuples(E)"
   ]
  },
  {
   "cell_type": "code",
   "execution_count": null,
   "metadata": {},
   "outputs": [
    {
     "data": {
      "text/plain": [
       "{'l': 4,\n",
       " '##o': 27,\n",
       " '##r': 21,\n",
       " '##e': 27,\n",
       " '##m': 14,\n",
       " 'i': 7,\n",
       " '##p': 9,\n",
       " '##s': 14,\n",
       " '##u': 25,\n",
       " 'd': 7,\n",
       " '##l': 18,\n",
       " 's': 4,\n",
       " '##i': 35,\n",
       " '##t': 31,\n",
       " 'a': 7,\n",
       " 'c': 6,\n",
       " '##n': 20,\n",
       " '##c': 10,\n",
       " '##d': 12,\n",
       " '##g': 3,\n",
       " 'e': 11,\n",
       " 't': 1,\n",
       " 'u': 4,\n",
       " '##a': 22,\n",
       " '##b': 3,\n",
       " 'm': 3,\n",
       " '##q': 3,\n",
       " 'v': 3,\n",
       " 'q': 2,\n",
       " 'n': 4,\n",
       " '##x': 3,\n",
       " 'r': 1,\n",
       " '##h': 1,\n",
       " 'f': 1,\n",
       " 'p': 2,\n",
       " 'o': 2,\n",
       " '##f': 2}"
      ]
     },
     "execution_count": 18,
     "metadata": {},
     "output_type": "execute_result"
    }
   ],
   "source": [
    "def freq_map(encoded_training_corpus: list) -> dict:\n",
    "    freq_map = {}\n",
    "    for word in encoded_training_corpus:\n",
    "        for token in word:\n",
    "            if token in freq_map:\n",
    "                freq_map[token] += 1\n",
    "            else:\n",
    "                freq_map[token] = 1\n",
    "    return freq_map\n",
    "\n",
    "NUM_STEPS = 1\n",
    "\n",
    "E = encode(training_corpus)\n",
    "\n",
    "for step in range(NUM_STEPS):\n",
    "    # first order frequency\n",
    "    F = freq_map(E)\n",
    "    # second order frequency\n",
    "#     F2 = freq_map(encode(\" \".join(encode(training_corpus))))\n",
    "#     for word in training_corpus.split():\n",
    "#         for token in explode_word(word):\n",
    "#             if F[token] < THRESHOLD:\n",
    "#                 training_corpus = training_corpus.replace(word, token)\n",
    "#                 break\n",
    "# F = freq_map(encode(training_corpus))\n",
    "F"
   ]
  },
  {
   "cell_type": "code",
   "execution_count": null,
   "metadata": {},
   "outputs": [],
   "source": [
    "def tokenize(input_seq, vocabulary):\n",
    "    \"\"\" we will break playing into p, ##l\n",
    "\n"
   ]
  }
 ],
 "metadata": {
  "kernelspec": {
   "display_name": "py312",
   "language": "python",
   "name": "py312"
  },
  "language_info": {
   "codemirror_mode": {
    "name": "ipython",
    "version": 3
   },
   "file_extension": ".py",
   "mimetype": "text/x-python",
   "name": "python",
   "nbconvert_exporter": "python",
   "pygments_lexer": "ipython3",
   "version": "3.12.4"
  }
 },
 "nbformat": 4,
 "nbformat_minor": 2
}

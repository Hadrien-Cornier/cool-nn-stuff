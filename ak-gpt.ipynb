{
 "cells": [
  {
   "cell_type": "code",
   "execution_count": 1,
   "metadata": {},
   "outputs": [],
   "source": [
    "import torch.nn as nn\n",
    "# https://www.youtube.com/watch?v=kCc8FmEb1nY&t=6s"
   ]
  },
  {
   "cell_type": "markdown",
   "metadata": {},
   "source": []
  },
  {
   "cell_type": "code",
   "execution_count": null,
   "metadata": {},
   "outputs": [],
   "source": [
    "class CustomTransformerBlock(nn.Module):\n",
    "\n",
    "    def __init__(self,config):\n",
    "        super().__init__()\n",
    "        ## nn.Linear can be used to represent a matrix\n",
    "        # self.Q = nn.Linear(config.n_embd, config.n_embd)\n",
    "        # self.K = nn.Linear(config.n_embd, config.n_embd)\n",
    "        # self.V = nn.Linear(config.n_embd, config.n_embd)\n",
    "        # But I want the raw Parameter\n",
    "        # we sample from 1/embedding_dimension\n",
    "        self.Q = nn.Parameter(torch.randn(config.n_embd, config.n_embd)*torch.sqrt(torch.tensor(1.0/config.n_embd)))\n",
    "        self.K = nn.Parameter(torch.randn(config.n_embd, config.n_embd)*torch.sqrt(torch.tensor(1.0/config.n_embd)))\n",
    "        self.V = nn.Parameter(torch.randn(config.n_embd, config.n_embd)*torch.sqrt(torch.tensor(1.0/config.n_embd)))\n",
    "\n",
    "        self.ln_1 = nn.LayerNorm(config.n_embd)\n",
    "        self.ln_2 = nn.LayerNorm(config.n_embd)\n",
    "        \n",
    "        self.mlp = nn.Sequential(\n",
    "            nn.Linear(config.n_embd, 4*config.n_embd),\n",
    "            nn.GELU(),\n",
    "            nn.Linear(4*config.n_embd, config.n_embd),\n",
    "        )\n",
    "    \n",
    "\n",
    "    def attention(X, Q, K, V, mask=None, dropout=None):\n",
    "        \"\"\"\n",
    "        X = incoming batch of tokens of dimension (batch_size, seq_len, n_embd)\n",
    "\n",
    "        attention for a incoming \n",
    "        \"\"\" \n",
    "\n",
    "        key_t = torch.transpose(key, 0, 1)\n",
    "\n",
    "        # queries : (batch_size, seq_len, n_embd) x (n_embd, n_embd) = (batch_size, seq_len, n_embd)\n",
    "        queries = torch.matmul(X, Q)\n",
    "        # keys : (batch_size, seq_len, n_embd) x (n_embd, n_embd) = (batch_size, seq_len, n_embd)\n",
    "        keys = torch.matmul(X, K)\n",
    "        # values : (batch_size, seq_len, n_embd) x (n_embd, n_embd) = (batch_size, seq_len, n_embd)\n",
    "        values = torch.matmul(X, V)\n",
    "\n",
    "        keys_transpose = torch.transpose(keys, 0, 1)\n",
    "\n",
    "        # q_k_t : (batch_size, seq_len, n_embd) x (n_embd, n_embd) = (batch_size, seq_len, seq_len)\n",
    "        q_k_t = torch.matmul(queries, keys_transpose)\n",
    "        torch.matmul(torch.matmul(queries, keys_transpose)*torch.sqrt(torch.tensor(1.0/config.n_embd))\n"
   ]
  }
 ],
 "metadata": {
  "kernelspec": {
   "display_name": "py312",
   "language": "python",
   "name": "py312"
  },
  "language_info": {
   "codemirror_mode": {
    "name": "ipython",
    "version": 3
   },
   "file_extension": ".py",
   "mimetype": "text/x-python",
   "name": "python",
   "nbconvert_exporter": "python",
   "pygments_lexer": "ipython3",
   "version": "3.12.4"
  }
 },
 "nbformat": 4,
 "nbformat_minor": 2
}
